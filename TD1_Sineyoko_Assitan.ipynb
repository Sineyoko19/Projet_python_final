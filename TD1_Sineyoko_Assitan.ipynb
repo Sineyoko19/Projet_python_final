{
  "nbformat": 4,
  "nbformat_minor": 0,
  "metadata": {
    "colab": {
      "provenance": [],
      "authorship_tag": "ABX9TyMk7hihCTYbaGUvmGgfnPix",
      "include_colab_link": true
    },
    "kernelspec": {
      "name": "python3",
      "display_name": "Python 3"
    },
    "language_info": {
      "name": "python"
    },
    "widgets": {
      "application/vnd.jupyter.widget-state+json": {
        "5c5258272ed84330bf8dd2fcb66bf37c": {
          "model_module": "@jupyter-widgets/controls",
          "model_name": "HBoxModel",
          "model_module_version": "1.5.0",
          "state": {
            "_dom_classes": [],
            "_model_module": "@jupyter-widgets/controls",
            "_model_module_version": "1.5.0",
            "_model_name": "HBoxModel",
            "_view_count": null,
            "_view_module": "@jupyter-widgets/controls",
            "_view_module_version": "1.5.0",
            "_view_name": "HBoxView",
            "box_style": "",
            "children": [
              "IPY_MODEL_d821837e81b749cda90226f92491e0f7",
              "IPY_MODEL_6503e85aa8ef4874a36eb4b901be8bee",
              "IPY_MODEL_c9b0d4493699444fa09b728327b3bff7"
            ],
            "layout": "IPY_MODEL_e0080fb2adcf4f24a0e55de9e598a295"
          }
        },
        "d821837e81b749cda90226f92491e0f7": {
          "model_module": "@jupyter-widgets/controls",
          "model_name": "HTMLModel",
          "model_module_version": "1.5.0",
          "state": {
            "_dom_classes": [],
            "_model_module": "@jupyter-widgets/controls",
            "_model_module_version": "1.5.0",
            "_model_name": "HTMLModel",
            "_view_count": null,
            "_view_module": "@jupyter-widgets/controls",
            "_view_module_version": "1.5.0",
            "_view_name": "HTMLView",
            "description": "",
            "description_tooltip": null,
            "layout": "IPY_MODEL_cf00fb804fd248f081d0463350cded26",
            "placeholder": "​",
            "style": "IPY_MODEL_99a90d182a624fb2a3fba0abf5db86e7",
            "value": "100%"
          }
        },
        "6503e85aa8ef4874a36eb4b901be8bee": {
          "model_module": "@jupyter-widgets/controls",
          "model_name": "FloatProgressModel",
          "model_module_version": "1.5.0",
          "state": {
            "_dom_classes": [],
            "_model_module": "@jupyter-widgets/controls",
            "_model_module_version": "1.5.0",
            "_model_name": "FloatProgressModel",
            "_view_count": null,
            "_view_module": "@jupyter-widgets/controls",
            "_view_module_version": "1.5.0",
            "_view_name": "ProgressView",
            "bar_style": "success",
            "description": "",
            "description_tooltip": null,
            "layout": "IPY_MODEL_c521243488724364bb67bb7a47d6183e",
            "max": 9912422,
            "min": 0,
            "orientation": "horizontal",
            "style": "IPY_MODEL_761a5a51c83e4807b8f0c560a87cdeaa",
            "value": 9912422
          }
        },
        "c9b0d4493699444fa09b728327b3bff7": {
          "model_module": "@jupyter-widgets/controls",
          "model_name": "HTMLModel",
          "model_module_version": "1.5.0",
          "state": {
            "_dom_classes": [],
            "_model_module": "@jupyter-widgets/controls",
            "_model_module_version": "1.5.0",
            "_model_name": "HTMLModel",
            "_view_count": null,
            "_view_module": "@jupyter-widgets/controls",
            "_view_module_version": "1.5.0",
            "_view_name": "HTMLView",
            "description": "",
            "description_tooltip": null,
            "layout": "IPY_MODEL_7ff569bf9ce24f9faccc8f87c281c54d",
            "placeholder": "​",
            "style": "IPY_MODEL_48507356a4b84d89869e1d441ce66082",
            "value": " 9912422/9912422 [00:00&lt;00:00, 20579192.46it/s]"
          }
        },
        "e0080fb2adcf4f24a0e55de9e598a295": {
          "model_module": "@jupyter-widgets/base",
          "model_name": "LayoutModel",
          "model_module_version": "1.2.0",
          "state": {
            "_model_module": "@jupyter-widgets/base",
            "_model_module_version": "1.2.0",
            "_model_name": "LayoutModel",
            "_view_count": null,
            "_view_module": "@jupyter-widgets/base",
            "_view_module_version": "1.2.0",
            "_view_name": "LayoutView",
            "align_content": null,
            "align_items": null,
            "align_self": null,
            "border": null,
            "bottom": null,
            "display": null,
            "flex": null,
            "flex_flow": null,
            "grid_area": null,
            "grid_auto_columns": null,
            "grid_auto_flow": null,
            "grid_auto_rows": null,
            "grid_column": null,
            "grid_gap": null,
            "grid_row": null,
            "grid_template_areas": null,
            "grid_template_columns": null,
            "grid_template_rows": null,
            "height": null,
            "justify_content": null,
            "justify_items": null,
            "left": null,
            "margin": null,
            "max_height": null,
            "max_width": null,
            "min_height": null,
            "min_width": null,
            "object_fit": null,
            "object_position": null,
            "order": null,
            "overflow": null,
            "overflow_x": null,
            "overflow_y": null,
            "padding": null,
            "right": null,
            "top": null,
            "visibility": null,
            "width": null
          }
        },
        "cf00fb804fd248f081d0463350cded26": {
          "model_module": "@jupyter-widgets/base",
          "model_name": "LayoutModel",
          "model_module_version": "1.2.0",
          "state": {
            "_model_module": "@jupyter-widgets/base",
            "_model_module_version": "1.2.0",
            "_model_name": "LayoutModel",
            "_view_count": null,
            "_view_module": "@jupyter-widgets/base",
            "_view_module_version": "1.2.0",
            "_view_name": "LayoutView",
            "align_content": null,
            "align_items": null,
            "align_self": null,
            "border": null,
            "bottom": null,
            "display": null,
            "flex": null,
            "flex_flow": null,
            "grid_area": null,
            "grid_auto_columns": null,
            "grid_auto_flow": null,
            "grid_auto_rows": null,
            "grid_column": null,
            "grid_gap": null,
            "grid_row": null,
            "grid_template_areas": null,
            "grid_template_columns": null,
            "grid_template_rows": null,
            "height": null,
            "justify_content": null,
            "justify_items": null,
            "left": null,
            "margin": null,
            "max_height": null,
            "max_width": null,
            "min_height": null,
            "min_width": null,
            "object_fit": null,
            "object_position": null,
            "order": null,
            "overflow": null,
            "overflow_x": null,
            "overflow_y": null,
            "padding": null,
            "right": null,
            "top": null,
            "visibility": null,
            "width": null
          }
        },
        "99a90d182a624fb2a3fba0abf5db86e7": {
          "model_module": "@jupyter-widgets/controls",
          "model_name": "DescriptionStyleModel",
          "model_module_version": "1.5.0",
          "state": {
            "_model_module": "@jupyter-widgets/controls",
            "_model_module_version": "1.5.0",
            "_model_name": "DescriptionStyleModel",
            "_view_count": null,
            "_view_module": "@jupyter-widgets/base",
            "_view_module_version": "1.2.0",
            "_view_name": "StyleView",
            "description_width": ""
          }
        },
        "c521243488724364bb67bb7a47d6183e": {
          "model_module": "@jupyter-widgets/base",
          "model_name": "LayoutModel",
          "model_module_version": "1.2.0",
          "state": {
            "_model_module": "@jupyter-widgets/base",
            "_model_module_version": "1.2.0",
            "_model_name": "LayoutModel",
            "_view_count": null,
            "_view_module": "@jupyter-widgets/base",
            "_view_module_version": "1.2.0",
            "_view_name": "LayoutView",
            "align_content": null,
            "align_items": null,
            "align_self": null,
            "border": null,
            "bottom": null,
            "display": null,
            "flex": null,
            "flex_flow": null,
            "grid_area": null,
            "grid_auto_columns": null,
            "grid_auto_flow": null,
            "grid_auto_rows": null,
            "grid_column": null,
            "grid_gap": null,
            "grid_row": null,
            "grid_template_areas": null,
            "grid_template_columns": null,
            "grid_template_rows": null,
            "height": null,
            "justify_content": null,
            "justify_items": null,
            "left": null,
            "margin": null,
            "max_height": null,
            "max_width": null,
            "min_height": null,
            "min_width": null,
            "object_fit": null,
            "object_position": null,
            "order": null,
            "overflow": null,
            "overflow_x": null,
            "overflow_y": null,
            "padding": null,
            "right": null,
            "top": null,
            "visibility": null,
            "width": null
          }
        },
        "761a5a51c83e4807b8f0c560a87cdeaa": {
          "model_module": "@jupyter-widgets/controls",
          "model_name": "ProgressStyleModel",
          "model_module_version": "1.5.0",
          "state": {
            "_model_module": "@jupyter-widgets/controls",
            "_model_module_version": "1.5.0",
            "_model_name": "ProgressStyleModel",
            "_view_count": null,
            "_view_module": "@jupyter-widgets/base",
            "_view_module_version": "1.2.0",
            "_view_name": "StyleView",
            "bar_color": null,
            "description_width": ""
          }
        },
        "7ff569bf9ce24f9faccc8f87c281c54d": {
          "model_module": "@jupyter-widgets/base",
          "model_name": "LayoutModel",
          "model_module_version": "1.2.0",
          "state": {
            "_model_module": "@jupyter-widgets/base",
            "_model_module_version": "1.2.0",
            "_model_name": "LayoutModel",
            "_view_count": null,
            "_view_module": "@jupyter-widgets/base",
            "_view_module_version": "1.2.0",
            "_view_name": "LayoutView",
            "align_content": null,
            "align_items": null,
            "align_self": null,
            "border": null,
            "bottom": null,
            "display": null,
            "flex": null,
            "flex_flow": null,
            "grid_area": null,
            "grid_auto_columns": null,
            "grid_auto_flow": null,
            "grid_auto_rows": null,
            "grid_column": null,
            "grid_gap": null,
            "grid_row": null,
            "grid_template_areas": null,
            "grid_template_columns": null,
            "grid_template_rows": null,
            "height": null,
            "justify_content": null,
            "justify_items": null,
            "left": null,
            "margin": null,
            "max_height": null,
            "max_width": null,
            "min_height": null,
            "min_width": null,
            "object_fit": null,
            "object_position": null,
            "order": null,
            "overflow": null,
            "overflow_x": null,
            "overflow_y": null,
            "padding": null,
            "right": null,
            "top": null,
            "visibility": null,
            "width": null
          }
        },
        "48507356a4b84d89869e1d441ce66082": {
          "model_module": "@jupyter-widgets/controls",
          "model_name": "DescriptionStyleModel",
          "model_module_version": "1.5.0",
          "state": {
            "_model_module": "@jupyter-widgets/controls",
            "_model_module_version": "1.5.0",
            "_model_name": "DescriptionStyleModel",
            "_view_count": null,
            "_view_module": "@jupyter-widgets/base",
            "_view_module_version": "1.2.0",
            "_view_name": "StyleView",
            "description_width": ""
          }
        },
        "a0b8062873a648879a2ecdb5ac9746e9": {
          "model_module": "@jupyter-widgets/controls",
          "model_name": "HBoxModel",
          "model_module_version": "1.5.0",
          "state": {
            "_dom_classes": [],
            "_model_module": "@jupyter-widgets/controls",
            "_model_module_version": "1.5.0",
            "_model_name": "HBoxModel",
            "_view_count": null,
            "_view_module": "@jupyter-widgets/controls",
            "_view_module_version": "1.5.0",
            "_view_name": "HBoxView",
            "box_style": "",
            "children": [
              "IPY_MODEL_ba50cb56d39b4a20a09a08fb84e5fd23",
              "IPY_MODEL_dad36f1db06b4df89aa8599a883a7b04",
              "IPY_MODEL_9d0e72dfef7e445eb2b313a0f197a292"
            ],
            "layout": "IPY_MODEL_d4f6ab395be942b08ba75965b29543c7"
          }
        },
        "ba50cb56d39b4a20a09a08fb84e5fd23": {
          "model_module": "@jupyter-widgets/controls",
          "model_name": "HTMLModel",
          "model_module_version": "1.5.0",
          "state": {
            "_dom_classes": [],
            "_model_module": "@jupyter-widgets/controls",
            "_model_module_version": "1.5.0",
            "_model_name": "HTMLModel",
            "_view_count": null,
            "_view_module": "@jupyter-widgets/controls",
            "_view_module_version": "1.5.0",
            "_view_name": "HTMLView",
            "description": "",
            "description_tooltip": null,
            "layout": "IPY_MODEL_ba622382f5054c7f8d55044a0d1f9e62",
            "placeholder": "​",
            "style": "IPY_MODEL_5f94d8b4c6134ace8fc14179530a8c8d",
            "value": "100%"
          }
        },
        "dad36f1db06b4df89aa8599a883a7b04": {
          "model_module": "@jupyter-widgets/controls",
          "model_name": "FloatProgressModel",
          "model_module_version": "1.5.0",
          "state": {
            "_dom_classes": [],
            "_model_module": "@jupyter-widgets/controls",
            "_model_module_version": "1.5.0",
            "_model_name": "FloatProgressModel",
            "_view_count": null,
            "_view_module": "@jupyter-widgets/controls",
            "_view_module_version": "1.5.0",
            "_view_name": "ProgressView",
            "bar_style": "success",
            "description": "",
            "description_tooltip": null,
            "layout": "IPY_MODEL_a0bc6dab1615496e96e8a0e12aa93ace",
            "max": 28881,
            "min": 0,
            "orientation": "horizontal",
            "style": "IPY_MODEL_ebe91bda1df24f8fa7a87e72c6e1774a",
            "value": 28881
          }
        },
        "9d0e72dfef7e445eb2b313a0f197a292": {
          "model_module": "@jupyter-widgets/controls",
          "model_name": "HTMLModel",
          "model_module_version": "1.5.0",
          "state": {
            "_dom_classes": [],
            "_model_module": "@jupyter-widgets/controls",
            "_model_module_version": "1.5.0",
            "_model_name": "HTMLModel",
            "_view_count": null,
            "_view_module": "@jupyter-widgets/controls",
            "_view_module_version": "1.5.0",
            "_view_name": "HTMLView",
            "description": "",
            "description_tooltip": null,
            "layout": "IPY_MODEL_442ae1accff74eed987fd1a9da860965",
            "placeholder": "​",
            "style": "IPY_MODEL_a72328afca3749e187df49ae1fea8b9b",
            "value": " 28881/28881 [00:00&lt;00:00, 1329189.60it/s]"
          }
        },
        "d4f6ab395be942b08ba75965b29543c7": {
          "model_module": "@jupyter-widgets/base",
          "model_name": "LayoutModel",
          "model_module_version": "1.2.0",
          "state": {
            "_model_module": "@jupyter-widgets/base",
            "_model_module_version": "1.2.0",
            "_model_name": "LayoutModel",
            "_view_count": null,
            "_view_module": "@jupyter-widgets/base",
            "_view_module_version": "1.2.0",
            "_view_name": "LayoutView",
            "align_content": null,
            "align_items": null,
            "align_self": null,
            "border": null,
            "bottom": null,
            "display": null,
            "flex": null,
            "flex_flow": null,
            "grid_area": null,
            "grid_auto_columns": null,
            "grid_auto_flow": null,
            "grid_auto_rows": null,
            "grid_column": null,
            "grid_gap": null,
            "grid_row": null,
            "grid_template_areas": null,
            "grid_template_columns": null,
            "grid_template_rows": null,
            "height": null,
            "justify_content": null,
            "justify_items": null,
            "left": null,
            "margin": null,
            "max_height": null,
            "max_width": null,
            "min_height": null,
            "min_width": null,
            "object_fit": null,
            "object_position": null,
            "order": null,
            "overflow": null,
            "overflow_x": null,
            "overflow_y": null,
            "padding": null,
            "right": null,
            "top": null,
            "visibility": null,
            "width": null
          }
        },
        "ba622382f5054c7f8d55044a0d1f9e62": {
          "model_module": "@jupyter-widgets/base",
          "model_name": "LayoutModel",
          "model_module_version": "1.2.0",
          "state": {
            "_model_module": "@jupyter-widgets/base",
            "_model_module_version": "1.2.0",
            "_model_name": "LayoutModel",
            "_view_count": null,
            "_view_module": "@jupyter-widgets/base",
            "_view_module_version": "1.2.0",
            "_view_name": "LayoutView",
            "align_content": null,
            "align_items": null,
            "align_self": null,
            "border": null,
            "bottom": null,
            "display": null,
            "flex": null,
            "flex_flow": null,
            "grid_area": null,
            "grid_auto_columns": null,
            "grid_auto_flow": null,
            "grid_auto_rows": null,
            "grid_column": null,
            "grid_gap": null,
            "grid_row": null,
            "grid_template_areas": null,
            "grid_template_columns": null,
            "grid_template_rows": null,
            "height": null,
            "justify_content": null,
            "justify_items": null,
            "left": null,
            "margin": null,
            "max_height": null,
            "max_width": null,
            "min_height": null,
            "min_width": null,
            "object_fit": null,
            "object_position": null,
            "order": null,
            "overflow": null,
            "overflow_x": null,
            "overflow_y": null,
            "padding": null,
            "right": null,
            "top": null,
            "visibility": null,
            "width": null
          }
        },
        "5f94d8b4c6134ace8fc14179530a8c8d": {
          "model_module": "@jupyter-widgets/controls",
          "model_name": "DescriptionStyleModel",
          "model_module_version": "1.5.0",
          "state": {
            "_model_module": "@jupyter-widgets/controls",
            "_model_module_version": "1.5.0",
            "_model_name": "DescriptionStyleModel",
            "_view_count": null,
            "_view_module": "@jupyter-widgets/base",
            "_view_module_version": "1.2.0",
            "_view_name": "StyleView",
            "description_width": ""
          }
        },
        "a0bc6dab1615496e96e8a0e12aa93ace": {
          "model_module": "@jupyter-widgets/base",
          "model_name": "LayoutModel",
          "model_module_version": "1.2.0",
          "state": {
            "_model_module": "@jupyter-widgets/base",
            "_model_module_version": "1.2.0",
            "_model_name": "LayoutModel",
            "_view_count": null,
            "_view_module": "@jupyter-widgets/base",
            "_view_module_version": "1.2.0",
            "_view_name": "LayoutView",
            "align_content": null,
            "align_items": null,
            "align_self": null,
            "border": null,
            "bottom": null,
            "display": null,
            "flex": null,
            "flex_flow": null,
            "grid_area": null,
            "grid_auto_columns": null,
            "grid_auto_flow": null,
            "grid_auto_rows": null,
            "grid_column": null,
            "grid_gap": null,
            "grid_row": null,
            "grid_template_areas": null,
            "grid_template_columns": null,
            "grid_template_rows": null,
            "height": null,
            "justify_content": null,
            "justify_items": null,
            "left": null,
            "margin": null,
            "max_height": null,
            "max_width": null,
            "min_height": null,
            "min_width": null,
            "object_fit": null,
            "object_position": null,
            "order": null,
            "overflow": null,
            "overflow_x": null,
            "overflow_y": null,
            "padding": null,
            "right": null,
            "top": null,
            "visibility": null,
            "width": null
          }
        },
        "ebe91bda1df24f8fa7a87e72c6e1774a": {
          "model_module": "@jupyter-widgets/controls",
          "model_name": "ProgressStyleModel",
          "model_module_version": "1.5.0",
          "state": {
            "_model_module": "@jupyter-widgets/controls",
            "_model_module_version": "1.5.0",
            "_model_name": "ProgressStyleModel",
            "_view_count": null,
            "_view_module": "@jupyter-widgets/base",
            "_view_module_version": "1.2.0",
            "_view_name": "StyleView",
            "bar_color": null,
            "description_width": ""
          }
        },
        "442ae1accff74eed987fd1a9da860965": {
          "model_module": "@jupyter-widgets/base",
          "model_name": "LayoutModel",
          "model_module_version": "1.2.0",
          "state": {
            "_model_module": "@jupyter-widgets/base",
            "_model_module_version": "1.2.0",
            "_model_name": "LayoutModel",
            "_view_count": null,
            "_view_module": "@jupyter-widgets/base",
            "_view_module_version": "1.2.0",
            "_view_name": "LayoutView",
            "align_content": null,
            "align_items": null,
            "align_self": null,
            "border": null,
            "bottom": null,
            "display": null,
            "flex": null,
            "flex_flow": null,
            "grid_area": null,
            "grid_auto_columns": null,
            "grid_auto_flow": null,
            "grid_auto_rows": null,
            "grid_column": null,
            "grid_gap": null,
            "grid_row": null,
            "grid_template_areas": null,
            "grid_template_columns": null,
            "grid_template_rows": null,
            "height": null,
            "justify_content": null,
            "justify_items": null,
            "left": null,
            "margin": null,
            "max_height": null,
            "max_width": null,
            "min_height": null,
            "min_width": null,
            "object_fit": null,
            "object_position": null,
            "order": null,
            "overflow": null,
            "overflow_x": null,
            "overflow_y": null,
            "padding": null,
            "right": null,
            "top": null,
            "visibility": null,
            "width": null
          }
        },
        "a72328afca3749e187df49ae1fea8b9b": {
          "model_module": "@jupyter-widgets/controls",
          "model_name": "DescriptionStyleModel",
          "model_module_version": "1.5.0",
          "state": {
            "_model_module": "@jupyter-widgets/controls",
            "_model_module_version": "1.5.0",
            "_model_name": "DescriptionStyleModel",
            "_view_count": null,
            "_view_module": "@jupyter-widgets/base",
            "_view_module_version": "1.2.0",
            "_view_name": "StyleView",
            "description_width": ""
          }
        },
        "c74755cf7abf4662ad327f3bfd4b73b3": {
          "model_module": "@jupyter-widgets/controls",
          "model_name": "HBoxModel",
          "model_module_version": "1.5.0",
          "state": {
            "_dom_classes": [],
            "_model_module": "@jupyter-widgets/controls",
            "_model_module_version": "1.5.0",
            "_model_name": "HBoxModel",
            "_view_count": null,
            "_view_module": "@jupyter-widgets/controls",
            "_view_module_version": "1.5.0",
            "_view_name": "HBoxView",
            "box_style": "",
            "children": [
              "IPY_MODEL_f67eae32c5244111b3f19e8ba2cca9a7",
              "IPY_MODEL_ad9af3c817b54df1acfb6174d7781f9d",
              "IPY_MODEL_2cbe74c56a574b21b692c6b429383314"
            ],
            "layout": "IPY_MODEL_0825ea6bd5c24cf9bf2106e2e7c4284a"
          }
        },
        "f67eae32c5244111b3f19e8ba2cca9a7": {
          "model_module": "@jupyter-widgets/controls",
          "model_name": "HTMLModel",
          "model_module_version": "1.5.0",
          "state": {
            "_dom_classes": [],
            "_model_module": "@jupyter-widgets/controls",
            "_model_module_version": "1.5.0",
            "_model_name": "HTMLModel",
            "_view_count": null,
            "_view_module": "@jupyter-widgets/controls",
            "_view_module_version": "1.5.0",
            "_view_name": "HTMLView",
            "description": "",
            "description_tooltip": null,
            "layout": "IPY_MODEL_4d1f2190ff62458596a47899ed28564b",
            "placeholder": "​",
            "style": "IPY_MODEL_2a280ac921054249961a3b8825c994a6",
            "value": "100%"
          }
        },
        "ad9af3c817b54df1acfb6174d7781f9d": {
          "model_module": "@jupyter-widgets/controls",
          "model_name": "FloatProgressModel",
          "model_module_version": "1.5.0",
          "state": {
            "_dom_classes": [],
            "_model_module": "@jupyter-widgets/controls",
            "_model_module_version": "1.5.0",
            "_model_name": "FloatProgressModel",
            "_view_count": null,
            "_view_module": "@jupyter-widgets/controls",
            "_view_module_version": "1.5.0",
            "_view_name": "ProgressView",
            "bar_style": "success",
            "description": "",
            "description_tooltip": null,
            "layout": "IPY_MODEL_2cf0c19fc41c41b29b085fe4baef23f4",
            "max": 1648877,
            "min": 0,
            "orientation": "horizontal",
            "style": "IPY_MODEL_f332e9a47fb241cf838e8238b3a0c134",
            "value": 1648877
          }
        },
        "2cbe74c56a574b21b692c6b429383314": {
          "model_module": "@jupyter-widgets/controls",
          "model_name": "HTMLModel",
          "model_module_version": "1.5.0",
          "state": {
            "_dom_classes": [],
            "_model_module": "@jupyter-widgets/controls",
            "_model_module_version": "1.5.0",
            "_model_name": "HTMLModel",
            "_view_count": null,
            "_view_module": "@jupyter-widgets/controls",
            "_view_module_version": "1.5.0",
            "_view_name": "HTMLView",
            "description": "",
            "description_tooltip": null,
            "layout": "IPY_MODEL_d067ecc69bfc4f5da3f63f1aa288d5ba",
            "placeholder": "​",
            "style": "IPY_MODEL_50b5b340dae04fda8cbc91b03e1ae7f7",
            "value": " 1648877/1648877 [00:00&lt;00:00, 12385029.47it/s]"
          }
        },
        "0825ea6bd5c24cf9bf2106e2e7c4284a": {
          "model_module": "@jupyter-widgets/base",
          "model_name": "LayoutModel",
          "model_module_version": "1.2.0",
          "state": {
            "_model_module": "@jupyter-widgets/base",
            "_model_module_version": "1.2.0",
            "_model_name": "LayoutModel",
            "_view_count": null,
            "_view_module": "@jupyter-widgets/base",
            "_view_module_version": "1.2.0",
            "_view_name": "LayoutView",
            "align_content": null,
            "align_items": null,
            "align_self": null,
            "border": null,
            "bottom": null,
            "display": null,
            "flex": null,
            "flex_flow": null,
            "grid_area": null,
            "grid_auto_columns": null,
            "grid_auto_flow": null,
            "grid_auto_rows": null,
            "grid_column": null,
            "grid_gap": null,
            "grid_row": null,
            "grid_template_areas": null,
            "grid_template_columns": null,
            "grid_template_rows": null,
            "height": null,
            "justify_content": null,
            "justify_items": null,
            "left": null,
            "margin": null,
            "max_height": null,
            "max_width": null,
            "min_height": null,
            "min_width": null,
            "object_fit": null,
            "object_position": null,
            "order": null,
            "overflow": null,
            "overflow_x": null,
            "overflow_y": null,
            "padding": null,
            "right": null,
            "top": null,
            "visibility": null,
            "width": null
          }
        },
        "4d1f2190ff62458596a47899ed28564b": {
          "model_module": "@jupyter-widgets/base",
          "model_name": "LayoutModel",
          "model_module_version": "1.2.0",
          "state": {
            "_model_module": "@jupyter-widgets/base",
            "_model_module_version": "1.2.0",
            "_model_name": "LayoutModel",
            "_view_count": null,
            "_view_module": "@jupyter-widgets/base",
            "_view_module_version": "1.2.0",
            "_view_name": "LayoutView",
            "align_content": null,
            "align_items": null,
            "align_self": null,
            "border": null,
            "bottom": null,
            "display": null,
            "flex": null,
            "flex_flow": null,
            "grid_area": null,
            "grid_auto_columns": null,
            "grid_auto_flow": null,
            "grid_auto_rows": null,
            "grid_column": null,
            "grid_gap": null,
            "grid_row": null,
            "grid_template_areas": null,
            "grid_template_columns": null,
            "grid_template_rows": null,
            "height": null,
            "justify_content": null,
            "justify_items": null,
            "left": null,
            "margin": null,
            "max_height": null,
            "max_width": null,
            "min_height": null,
            "min_width": null,
            "object_fit": null,
            "object_position": null,
            "order": null,
            "overflow": null,
            "overflow_x": null,
            "overflow_y": null,
            "padding": null,
            "right": null,
            "top": null,
            "visibility": null,
            "width": null
          }
        },
        "2a280ac921054249961a3b8825c994a6": {
          "model_module": "@jupyter-widgets/controls",
          "model_name": "DescriptionStyleModel",
          "model_module_version": "1.5.0",
          "state": {
            "_model_module": "@jupyter-widgets/controls",
            "_model_module_version": "1.5.0",
            "_model_name": "DescriptionStyleModel",
            "_view_count": null,
            "_view_module": "@jupyter-widgets/base",
            "_view_module_version": "1.2.0",
            "_view_name": "StyleView",
            "description_width": ""
          }
        },
        "2cf0c19fc41c41b29b085fe4baef23f4": {
          "model_module": "@jupyter-widgets/base",
          "model_name": "LayoutModel",
          "model_module_version": "1.2.0",
          "state": {
            "_model_module": "@jupyter-widgets/base",
            "_model_module_version": "1.2.0",
            "_model_name": "LayoutModel",
            "_view_count": null,
            "_view_module": "@jupyter-widgets/base",
            "_view_module_version": "1.2.0",
            "_view_name": "LayoutView",
            "align_content": null,
            "align_items": null,
            "align_self": null,
            "border": null,
            "bottom": null,
            "display": null,
            "flex": null,
            "flex_flow": null,
            "grid_area": null,
            "grid_auto_columns": null,
            "grid_auto_flow": null,
            "grid_auto_rows": null,
            "grid_column": null,
            "grid_gap": null,
            "grid_row": null,
            "grid_template_areas": null,
            "grid_template_columns": null,
            "grid_template_rows": null,
            "height": null,
            "justify_content": null,
            "justify_items": null,
            "left": null,
            "margin": null,
            "max_height": null,
            "max_width": null,
            "min_height": null,
            "min_width": null,
            "object_fit": null,
            "object_position": null,
            "order": null,
            "overflow": null,
            "overflow_x": null,
            "overflow_y": null,
            "padding": null,
            "right": null,
            "top": null,
            "visibility": null,
            "width": null
          }
        },
        "f332e9a47fb241cf838e8238b3a0c134": {
          "model_module": "@jupyter-widgets/controls",
          "model_name": "ProgressStyleModel",
          "model_module_version": "1.5.0",
          "state": {
            "_model_module": "@jupyter-widgets/controls",
            "_model_module_version": "1.5.0",
            "_model_name": "ProgressStyleModel",
            "_view_count": null,
            "_view_module": "@jupyter-widgets/base",
            "_view_module_version": "1.2.0",
            "_view_name": "StyleView",
            "bar_color": null,
            "description_width": ""
          }
        },
        "d067ecc69bfc4f5da3f63f1aa288d5ba": {
          "model_module": "@jupyter-widgets/base",
          "model_name": "LayoutModel",
          "model_module_version": "1.2.0",
          "state": {
            "_model_module": "@jupyter-widgets/base",
            "_model_module_version": "1.2.0",
            "_model_name": "LayoutModel",
            "_view_count": null,
            "_view_module": "@jupyter-widgets/base",
            "_view_module_version": "1.2.0",
            "_view_name": "LayoutView",
            "align_content": null,
            "align_items": null,
            "align_self": null,
            "border": null,
            "bottom": null,
            "display": null,
            "flex": null,
            "flex_flow": null,
            "grid_area": null,
            "grid_auto_columns": null,
            "grid_auto_flow": null,
            "grid_auto_rows": null,
            "grid_column": null,
            "grid_gap": null,
            "grid_row": null,
            "grid_template_areas": null,
            "grid_template_columns": null,
            "grid_template_rows": null,
            "height": null,
            "justify_content": null,
            "justify_items": null,
            "left": null,
            "margin": null,
            "max_height": null,
            "max_width": null,
            "min_height": null,
            "min_width": null,
            "object_fit": null,
            "object_position": null,
            "order": null,
            "overflow": null,
            "overflow_x": null,
            "overflow_y": null,
            "padding": null,
            "right": null,
            "top": null,
            "visibility": null,
            "width": null
          }
        },
        "50b5b340dae04fda8cbc91b03e1ae7f7": {
          "model_module": "@jupyter-widgets/controls",
          "model_name": "DescriptionStyleModel",
          "model_module_version": "1.5.0",
          "state": {
            "_model_module": "@jupyter-widgets/controls",
            "_model_module_version": "1.5.0",
            "_model_name": "DescriptionStyleModel",
            "_view_count": null,
            "_view_module": "@jupyter-widgets/base",
            "_view_module_version": "1.2.0",
            "_view_name": "StyleView",
            "description_width": ""
          }
        },
        "0229de6a9f4949c09ab34360b7b6e1da": {
          "model_module": "@jupyter-widgets/controls",
          "model_name": "HBoxModel",
          "model_module_version": "1.5.0",
          "state": {
            "_dom_classes": [],
            "_model_module": "@jupyter-widgets/controls",
            "_model_module_version": "1.5.0",
            "_model_name": "HBoxModel",
            "_view_count": null,
            "_view_module": "@jupyter-widgets/controls",
            "_view_module_version": "1.5.0",
            "_view_name": "HBoxView",
            "box_style": "",
            "children": [
              "IPY_MODEL_f9dffaf9e994497c9272f9e4b6caf898",
              "IPY_MODEL_df9ae847c32e422aa8a269a439b64148",
              "IPY_MODEL_7b47909f83024c9483cfdd91b5f87ffa"
            ],
            "layout": "IPY_MODEL_8483d3f5d9564bf198ef1729404d4130"
          }
        },
        "f9dffaf9e994497c9272f9e4b6caf898": {
          "model_module": "@jupyter-widgets/controls",
          "model_name": "HTMLModel",
          "model_module_version": "1.5.0",
          "state": {
            "_dom_classes": [],
            "_model_module": "@jupyter-widgets/controls",
            "_model_module_version": "1.5.0",
            "_model_name": "HTMLModel",
            "_view_count": null,
            "_view_module": "@jupyter-widgets/controls",
            "_view_module_version": "1.5.0",
            "_view_name": "HTMLView",
            "description": "",
            "description_tooltip": null,
            "layout": "IPY_MODEL_6095f685edbe488c99bbf82bcf680a02",
            "placeholder": "​",
            "style": "IPY_MODEL_c7fa1cead3e041f6a74a69546f25214d",
            "value": "100%"
          }
        },
        "df9ae847c32e422aa8a269a439b64148": {
          "model_module": "@jupyter-widgets/controls",
          "model_name": "FloatProgressModel",
          "model_module_version": "1.5.0",
          "state": {
            "_dom_classes": [],
            "_model_module": "@jupyter-widgets/controls",
            "_model_module_version": "1.5.0",
            "_model_name": "FloatProgressModel",
            "_view_count": null,
            "_view_module": "@jupyter-widgets/controls",
            "_view_module_version": "1.5.0",
            "_view_name": "ProgressView",
            "bar_style": "success",
            "description": "",
            "description_tooltip": null,
            "layout": "IPY_MODEL_920459a4244141779beb8bed8356715c",
            "max": 4542,
            "min": 0,
            "orientation": "horizontal",
            "style": "IPY_MODEL_d93cb9aca2624e40b0e0683ba8f4f262",
            "value": 4542
          }
        },
        "7b47909f83024c9483cfdd91b5f87ffa": {
          "model_module": "@jupyter-widgets/controls",
          "model_name": "HTMLModel",
          "model_module_version": "1.5.0",
          "state": {
            "_dom_classes": [],
            "_model_module": "@jupyter-widgets/controls",
            "_model_module_version": "1.5.0",
            "_model_name": "HTMLModel",
            "_view_count": null,
            "_view_module": "@jupyter-widgets/controls",
            "_view_module_version": "1.5.0",
            "_view_name": "HTMLView",
            "description": "",
            "description_tooltip": null,
            "layout": "IPY_MODEL_ff0d7983c67e4706b9ef574bbfc8bd2e",
            "placeholder": "​",
            "style": "IPY_MODEL_3d53bd891e28418ea87be33416a82339",
            "value": " 4542/4542 [00:00&lt;00:00, 213131.31it/s]"
          }
        },
        "8483d3f5d9564bf198ef1729404d4130": {
          "model_module": "@jupyter-widgets/base",
          "model_name": "LayoutModel",
          "model_module_version": "1.2.0",
          "state": {
            "_model_module": "@jupyter-widgets/base",
            "_model_module_version": "1.2.0",
            "_model_name": "LayoutModel",
            "_view_count": null,
            "_view_module": "@jupyter-widgets/base",
            "_view_module_version": "1.2.0",
            "_view_name": "LayoutView",
            "align_content": null,
            "align_items": null,
            "align_self": null,
            "border": null,
            "bottom": null,
            "display": null,
            "flex": null,
            "flex_flow": null,
            "grid_area": null,
            "grid_auto_columns": null,
            "grid_auto_flow": null,
            "grid_auto_rows": null,
            "grid_column": null,
            "grid_gap": null,
            "grid_row": null,
            "grid_template_areas": null,
            "grid_template_columns": null,
            "grid_template_rows": null,
            "height": null,
            "justify_content": null,
            "justify_items": null,
            "left": null,
            "margin": null,
            "max_height": null,
            "max_width": null,
            "min_height": null,
            "min_width": null,
            "object_fit": null,
            "object_position": null,
            "order": null,
            "overflow": null,
            "overflow_x": null,
            "overflow_y": null,
            "padding": null,
            "right": null,
            "top": null,
            "visibility": null,
            "width": null
          }
        },
        "6095f685edbe488c99bbf82bcf680a02": {
          "model_module": "@jupyter-widgets/base",
          "model_name": "LayoutModel",
          "model_module_version": "1.2.0",
          "state": {
            "_model_module": "@jupyter-widgets/base",
            "_model_module_version": "1.2.0",
            "_model_name": "LayoutModel",
            "_view_count": null,
            "_view_module": "@jupyter-widgets/base",
            "_view_module_version": "1.2.0",
            "_view_name": "LayoutView",
            "align_content": null,
            "align_items": null,
            "align_self": null,
            "border": null,
            "bottom": null,
            "display": null,
            "flex": null,
            "flex_flow": null,
            "grid_area": null,
            "grid_auto_columns": null,
            "grid_auto_flow": null,
            "grid_auto_rows": null,
            "grid_column": null,
            "grid_gap": null,
            "grid_row": null,
            "grid_template_areas": null,
            "grid_template_columns": null,
            "grid_template_rows": null,
            "height": null,
            "justify_content": null,
            "justify_items": null,
            "left": null,
            "margin": null,
            "max_height": null,
            "max_width": null,
            "min_height": null,
            "min_width": null,
            "object_fit": null,
            "object_position": null,
            "order": null,
            "overflow": null,
            "overflow_x": null,
            "overflow_y": null,
            "padding": null,
            "right": null,
            "top": null,
            "visibility": null,
            "width": null
          }
        },
        "c7fa1cead3e041f6a74a69546f25214d": {
          "model_module": "@jupyter-widgets/controls",
          "model_name": "DescriptionStyleModel",
          "model_module_version": "1.5.0",
          "state": {
            "_model_module": "@jupyter-widgets/controls",
            "_model_module_version": "1.5.0",
            "_model_name": "DescriptionStyleModel",
            "_view_count": null,
            "_view_module": "@jupyter-widgets/base",
            "_view_module_version": "1.2.0",
            "_view_name": "StyleView",
            "description_width": ""
          }
        },
        "920459a4244141779beb8bed8356715c": {
          "model_module": "@jupyter-widgets/base",
          "model_name": "LayoutModel",
          "model_module_version": "1.2.0",
          "state": {
            "_model_module": "@jupyter-widgets/base",
            "_model_module_version": "1.2.0",
            "_model_name": "LayoutModel",
            "_view_count": null,
            "_view_module": "@jupyter-widgets/base",
            "_view_module_version": "1.2.0",
            "_view_name": "LayoutView",
            "align_content": null,
            "align_items": null,
            "align_self": null,
            "border": null,
            "bottom": null,
            "display": null,
            "flex": null,
            "flex_flow": null,
            "grid_area": null,
            "grid_auto_columns": null,
            "grid_auto_flow": null,
            "grid_auto_rows": null,
            "grid_column": null,
            "grid_gap": null,
            "grid_row": null,
            "grid_template_areas": null,
            "grid_template_columns": null,
            "grid_template_rows": null,
            "height": null,
            "justify_content": null,
            "justify_items": null,
            "left": null,
            "margin": null,
            "max_height": null,
            "max_width": null,
            "min_height": null,
            "min_width": null,
            "object_fit": null,
            "object_position": null,
            "order": null,
            "overflow": null,
            "overflow_x": null,
            "overflow_y": null,
            "padding": null,
            "right": null,
            "top": null,
            "visibility": null,
            "width": null
          }
        },
        "d93cb9aca2624e40b0e0683ba8f4f262": {
          "model_module": "@jupyter-widgets/controls",
          "model_name": "ProgressStyleModel",
          "model_module_version": "1.5.0",
          "state": {
            "_model_module": "@jupyter-widgets/controls",
            "_model_module_version": "1.5.0",
            "_model_name": "ProgressStyleModel",
            "_view_count": null,
            "_view_module": "@jupyter-widgets/base",
            "_view_module_version": "1.2.0",
            "_view_name": "StyleView",
            "bar_color": null,
            "description_width": ""
          }
        },
        "ff0d7983c67e4706b9ef574bbfc8bd2e": {
          "model_module": "@jupyter-widgets/base",
          "model_name": "LayoutModel",
          "model_module_version": "1.2.0",
          "state": {
            "_model_module": "@jupyter-widgets/base",
            "_model_module_version": "1.2.0",
            "_model_name": "LayoutModel",
            "_view_count": null,
            "_view_module": "@jupyter-widgets/base",
            "_view_module_version": "1.2.0",
            "_view_name": "LayoutView",
            "align_content": null,
            "align_items": null,
            "align_self": null,
            "border": null,
            "bottom": null,
            "display": null,
            "flex": null,
            "flex_flow": null,
            "grid_area": null,
            "grid_auto_columns": null,
            "grid_auto_flow": null,
            "grid_auto_rows": null,
            "grid_column": null,
            "grid_gap": null,
            "grid_row": null,
            "grid_template_areas": null,
            "grid_template_columns": null,
            "grid_template_rows": null,
            "height": null,
            "justify_content": null,
            "justify_items": null,
            "left": null,
            "margin": null,
            "max_height": null,
            "max_width": null,
            "min_height": null,
            "min_width": null,
            "object_fit": null,
            "object_position": null,
            "order": null,
            "overflow": null,
            "overflow_x": null,
            "overflow_y": null,
            "padding": null,
            "right": null,
            "top": null,
            "visibility": null,
            "width": null
          }
        },
        "3d53bd891e28418ea87be33416a82339": {
          "model_module": "@jupyter-widgets/controls",
          "model_name": "DescriptionStyleModel",
          "model_module_version": "1.5.0",
          "state": {
            "_model_module": "@jupyter-widgets/controls",
            "_model_module_version": "1.5.0",
            "_model_name": "DescriptionStyleModel",
            "_view_count": null,
            "_view_module": "@jupyter-widgets/base",
            "_view_module_version": "1.2.0",
            "_view_name": "StyleView",
            "description_width": ""
          }
        },
        "fb9ffadfba104b8cb469002c2a89b0e8": {
          "model_module": "@jupyter-widgets/controls",
          "model_name": "HBoxModel",
          "model_module_version": "1.5.0",
          "state": {
            "_dom_classes": [],
            "_model_module": "@jupyter-widgets/controls",
            "_model_module_version": "1.5.0",
            "_model_name": "HBoxModel",
            "_view_count": null,
            "_view_module": "@jupyter-widgets/controls",
            "_view_module_version": "1.5.0",
            "_view_name": "HBoxView",
            "box_style": "",
            "children": [
              "IPY_MODEL_77fdb27dea55422a8e8d6a70b44d04b1",
              "IPY_MODEL_111f67fbf0154b0c9af526a1ea1e07be",
              "IPY_MODEL_0eb0034bf29c4ab4834a061b405bd05c"
            ],
            "layout": "IPY_MODEL_5a26f01c6c294d9b8b6d5ba198010e5f"
          }
        },
        "77fdb27dea55422a8e8d6a70b44d04b1": {
          "model_module": "@jupyter-widgets/controls",
          "model_name": "HTMLModel",
          "model_module_version": "1.5.0",
          "state": {
            "_dom_classes": [],
            "_model_module": "@jupyter-widgets/controls",
            "_model_module_version": "1.5.0",
            "_model_name": "HTMLModel",
            "_view_count": null,
            "_view_module": "@jupyter-widgets/controls",
            "_view_module_version": "1.5.0",
            "_view_name": "HTMLView",
            "description": "",
            "description_tooltip": null,
            "layout": "IPY_MODEL_d27913a893ae4ec6aa2fd4eaa0391205",
            "placeholder": "​",
            "style": "IPY_MODEL_a690d2498d23448eae98519edac1fd11",
            "value": "Dl Completed...: 100%"
          }
        },
        "111f67fbf0154b0c9af526a1ea1e07be": {
          "model_module": "@jupyter-widgets/controls",
          "model_name": "FloatProgressModel",
          "model_module_version": "1.5.0",
          "state": {
            "_dom_classes": [],
            "_model_module": "@jupyter-widgets/controls",
            "_model_module_version": "1.5.0",
            "_model_name": "FloatProgressModel",
            "_view_count": null,
            "_view_module": "@jupyter-widgets/controls",
            "_view_module_version": "1.5.0",
            "_view_name": "ProgressView",
            "bar_style": "success",
            "description": "",
            "description_tooltip": null,
            "layout": "IPY_MODEL_7e93c760b3ff40fbaf2277a1aa6217d8",
            "max": 5,
            "min": 0,
            "orientation": "horizontal",
            "style": "IPY_MODEL_635901dc183e4ca9887fff399a28ca55",
            "value": 5
          }
        },
        "0eb0034bf29c4ab4834a061b405bd05c": {
          "model_module": "@jupyter-widgets/controls",
          "model_name": "HTMLModel",
          "model_module_version": "1.5.0",
          "state": {
            "_dom_classes": [],
            "_model_module": "@jupyter-widgets/controls",
            "_model_module_version": "1.5.0",
            "_model_name": "HTMLModel",
            "_view_count": null,
            "_view_module": "@jupyter-widgets/controls",
            "_view_module_version": "1.5.0",
            "_view_name": "HTMLView",
            "description": "",
            "description_tooltip": null,
            "layout": "IPY_MODEL_8b559699e641466685de006db5c66a27",
            "placeholder": "​",
            "style": "IPY_MODEL_76c6f42778a143a28e822d0d4cddcf71",
            "value": " 5/5 [00:03&lt;00:00,  1.05 file/s]"
          }
        },
        "5a26f01c6c294d9b8b6d5ba198010e5f": {
          "model_module": "@jupyter-widgets/base",
          "model_name": "LayoutModel",
          "model_module_version": "1.2.0",
          "state": {
            "_model_module": "@jupyter-widgets/base",
            "_model_module_version": "1.2.0",
            "_model_name": "LayoutModel",
            "_view_count": null,
            "_view_module": "@jupyter-widgets/base",
            "_view_module_version": "1.2.0",
            "_view_name": "LayoutView",
            "align_content": null,
            "align_items": null,
            "align_self": null,
            "border": null,
            "bottom": null,
            "display": null,
            "flex": null,
            "flex_flow": null,
            "grid_area": null,
            "grid_auto_columns": null,
            "grid_auto_flow": null,
            "grid_auto_rows": null,
            "grid_column": null,
            "grid_gap": null,
            "grid_row": null,
            "grid_template_areas": null,
            "grid_template_columns": null,
            "grid_template_rows": null,
            "height": null,
            "justify_content": null,
            "justify_items": null,
            "left": null,
            "margin": null,
            "max_height": null,
            "max_width": null,
            "min_height": null,
            "min_width": null,
            "object_fit": null,
            "object_position": null,
            "order": null,
            "overflow": null,
            "overflow_x": null,
            "overflow_y": null,
            "padding": null,
            "right": null,
            "top": null,
            "visibility": null,
            "width": null
          }
        },
        "d27913a893ae4ec6aa2fd4eaa0391205": {
          "model_module": "@jupyter-widgets/base",
          "model_name": "LayoutModel",
          "model_module_version": "1.2.0",
          "state": {
            "_model_module": "@jupyter-widgets/base",
            "_model_module_version": "1.2.0",
            "_model_name": "LayoutModel",
            "_view_count": null,
            "_view_module": "@jupyter-widgets/base",
            "_view_module_version": "1.2.0",
            "_view_name": "LayoutView",
            "align_content": null,
            "align_items": null,
            "align_self": null,
            "border": null,
            "bottom": null,
            "display": null,
            "flex": null,
            "flex_flow": null,
            "grid_area": null,
            "grid_auto_columns": null,
            "grid_auto_flow": null,
            "grid_auto_rows": null,
            "grid_column": null,
            "grid_gap": null,
            "grid_row": null,
            "grid_template_areas": null,
            "grid_template_columns": null,
            "grid_template_rows": null,
            "height": null,
            "justify_content": null,
            "justify_items": null,
            "left": null,
            "margin": null,
            "max_height": null,
            "max_width": null,
            "min_height": null,
            "min_width": null,
            "object_fit": null,
            "object_position": null,
            "order": null,
            "overflow": null,
            "overflow_x": null,
            "overflow_y": null,
            "padding": null,
            "right": null,
            "top": null,
            "visibility": null,
            "width": null
          }
        },
        "a690d2498d23448eae98519edac1fd11": {
          "model_module": "@jupyter-widgets/controls",
          "model_name": "DescriptionStyleModel",
          "model_module_version": "1.5.0",
          "state": {
            "_model_module": "@jupyter-widgets/controls",
            "_model_module_version": "1.5.0",
            "_model_name": "DescriptionStyleModel",
            "_view_count": null,
            "_view_module": "@jupyter-widgets/base",
            "_view_module_version": "1.2.0",
            "_view_name": "StyleView",
            "description_width": ""
          }
        },
        "7e93c760b3ff40fbaf2277a1aa6217d8": {
          "model_module": "@jupyter-widgets/base",
          "model_name": "LayoutModel",
          "model_module_version": "1.2.0",
          "state": {
            "_model_module": "@jupyter-widgets/base",
            "_model_module_version": "1.2.0",
            "_model_name": "LayoutModel",
            "_view_count": null,
            "_view_module": "@jupyter-widgets/base",
            "_view_module_version": "1.2.0",
            "_view_name": "LayoutView",
            "align_content": null,
            "align_items": null,
            "align_self": null,
            "border": null,
            "bottom": null,
            "display": null,
            "flex": null,
            "flex_flow": null,
            "grid_area": null,
            "grid_auto_columns": null,
            "grid_auto_flow": null,
            "grid_auto_rows": null,
            "grid_column": null,
            "grid_gap": null,
            "grid_row": null,
            "grid_template_areas": null,
            "grid_template_columns": null,
            "grid_template_rows": null,
            "height": null,
            "justify_content": null,
            "justify_items": null,
            "left": null,
            "margin": null,
            "max_height": null,
            "max_width": null,
            "min_height": null,
            "min_width": null,
            "object_fit": null,
            "object_position": null,
            "order": null,
            "overflow": null,
            "overflow_x": null,
            "overflow_y": null,
            "padding": null,
            "right": null,
            "top": null,
            "visibility": null,
            "width": null
          }
        },
        "635901dc183e4ca9887fff399a28ca55": {
          "model_module": "@jupyter-widgets/controls",
          "model_name": "ProgressStyleModel",
          "model_module_version": "1.5.0",
          "state": {
            "_model_module": "@jupyter-widgets/controls",
            "_model_module_version": "1.5.0",
            "_model_name": "ProgressStyleModel",
            "_view_count": null,
            "_view_module": "@jupyter-widgets/base",
            "_view_module_version": "1.2.0",
            "_view_name": "StyleView",
            "bar_color": null,
            "description_width": ""
          }
        },
        "8b559699e641466685de006db5c66a27": {
          "model_module": "@jupyter-widgets/base",
          "model_name": "LayoutModel",
          "model_module_version": "1.2.0",
          "state": {
            "_model_module": "@jupyter-widgets/base",
            "_model_module_version": "1.2.0",
            "_model_name": "LayoutModel",
            "_view_count": null,
            "_view_module": "@jupyter-widgets/base",
            "_view_module_version": "1.2.0",
            "_view_name": "LayoutView",
            "align_content": null,
            "align_items": null,
            "align_self": null,
            "border": null,
            "bottom": null,
            "display": null,
            "flex": null,
            "flex_flow": null,
            "grid_area": null,
            "grid_auto_columns": null,
            "grid_auto_flow": null,
            "grid_auto_rows": null,
            "grid_column": null,
            "grid_gap": null,
            "grid_row": null,
            "grid_template_areas": null,
            "grid_template_columns": null,
            "grid_template_rows": null,
            "height": null,
            "justify_content": null,
            "justify_items": null,
            "left": null,
            "margin": null,
            "max_height": null,
            "max_width": null,
            "min_height": null,
            "min_width": null,
            "object_fit": null,
            "object_position": null,
            "order": null,
            "overflow": null,
            "overflow_x": null,
            "overflow_y": null,
            "padding": null,
            "right": null,
            "top": null,
            "visibility": null,
            "width": null
          }
        },
        "76c6f42778a143a28e822d0d4cddcf71": {
          "model_module": "@jupyter-widgets/controls",
          "model_name": "DescriptionStyleModel",
          "model_module_version": "1.5.0",
          "state": {
            "_model_module": "@jupyter-widgets/controls",
            "_model_module_version": "1.5.0",
            "_model_name": "DescriptionStyleModel",
            "_view_count": null,
            "_view_module": "@jupyter-widgets/base",
            "_view_module_version": "1.2.0",
            "_view_name": "StyleView",
            "description_width": ""
          }
        }
      }
    }
  },
  "cells": [
    {
      "cell_type": "markdown",
      "metadata": {
        "id": "view-in-github",
        "colab_type": "text"
      },
      "source": [
        "<a href=\"https://colab.research.google.com/github/Sineyoko19/Projet_python_final/blob/main/TD1_Sineyoko_Assitan.ipynb\" target=\"_parent\"><img src=\"https://colab.research.google.com/assets/colab-badge.svg\" alt=\"Open In Colab\"/></a>"
      ]
    },
    {
      "cell_type": "markdown",
      "source": [
        "# TD1 : Deep learning\n"
      ],
      "metadata": {
        "id": "WJrA0LC8NVAU"
      }
    },
    {
      "cell_type": "markdown",
      "source": [
        "## Exercice 1: Quick start with GC Environnement "
      ],
      "metadata": {
        "id": "lIrHwsCWOcyJ"
      }
    },
    {
      "cell_type": "markdown",
      "source": [
        "#### Importation de l'API pythorch"
      ],
      "metadata": {
        "id": "5IglWLK2OmgP"
      }
    },
    {
      "cell_type": "code",
      "source": [
        "import torch\n",
        "from torch import nn\n",
        "from torch.utils.data import DataLoader\n",
        "from torchvision import datasets\n",
        "from torchvision.transforms import ToTensor"
      ],
      "metadata": {
        "id": "iPtEjw3JNdEF"
      },
      "execution_count": 2,
      "outputs": []
    },
    {
      "cell_type": "markdown",
      "source": [
        "#### Activation de tenserflow"
      ],
      "metadata": {
        "id": "DrWIPsIqOrfp"
      }
    },
    {
      "cell_type": "code",
      "source": [
        "try:\n",
        " #%tensorflow_version 2.0 provide a method for printing the TensorFlow version...\n",
        " #method: tf.version.VERSION\n",
        "  %tensorflow_version 2.x\n",
        "except Exception:\n",
        "  pass"
      ],
      "metadata": {
        "colab": {
          "base_uri": "https://localhost:8080/"
        },
        "id": "54gqGwMqN9Wr",
        "outputId": "0d9064d6-4513-4eb2-cba9-6f3c58e1cb0d"
      },
      "execution_count": 3,
      "outputs": [
        {
          "output_type": "stream",
          "name": "stdout",
          "text": [
            "Colab only includes TensorFlow 2.x; %tensorflow_version has no effect.\n"
          ]
        }
      ]
    },
    {
      "cell_type": "markdown",
      "source": [
        "#### Importation du package tenserflow"
      ],
      "metadata": {
        "id": "rJWsqaK4OvdZ"
      }
    },
    {
      "cell_type": "code",
      "source": [
        "import tensorflow as tf\n",
        "print(tf.version.VERSION)\n"
      ],
      "metadata": {
        "colab": {
          "base_uri": "https://localhost:8080/"
        },
        "id": "Za-WBl3EN9Z1",
        "outputId": "2e5a056d-63df-406b-ebf3-320f8bf0647f"
      },
      "execution_count": 4,
      "outputs": [
        {
          "output_type": "stream",
          "name": "stdout",
          "text": [
            "2.9.2\n"
          ]
        }
      ]
    },
    {
      "cell_type": "code",
      "source": [
        "from tensorflow import keras\n",
        "import numpy as np\n",
        "import matplotlib.pyplot as plt"
      ],
      "metadata": {
        "id": "Kmwg4WU3N9dU"
      },
      "execution_count": 5,
      "outputs": []
    },
    {
      "cell_type": "markdown",
      "source": [
        "#### Importation  du dataset \n"
      ],
      "metadata": {
        "id": "ppfvixFaPNlp"
      }
    },
    {
      "cell_type": "markdown",
      "source": [
        "##### Avec pythorch"
      ],
      "metadata": {
        "id": "ows3-N82QaA3"
      }
    },
    {
      "cell_type": "code",
      "source": [
        "# Download training data from open datasets.\n",
        "training_data = datasets.MNIST(\n",
        "  root=\"data\", #root is the path where the data is stored,\n",
        "  train=True, #specifies the training dataset,\n",
        "  download=True, #downloads the data from the internet if it is not available at root\n",
        "  transform=ToTensor()#, #A function that takes in an PIL image and returns a transformed\n",
        " # version\n",
        ")"
      ],
      "metadata": {
        "colab": {
          "base_uri": "https://localhost:8080/",
          "height": 423,
          "referenced_widgets": [
            "5c5258272ed84330bf8dd2fcb66bf37c",
            "d821837e81b749cda90226f92491e0f7",
            "6503e85aa8ef4874a36eb4b901be8bee",
            "c9b0d4493699444fa09b728327b3bff7",
            "e0080fb2adcf4f24a0e55de9e598a295",
            "cf00fb804fd248f081d0463350cded26",
            "99a90d182a624fb2a3fba0abf5db86e7",
            "c521243488724364bb67bb7a47d6183e",
            "761a5a51c83e4807b8f0c560a87cdeaa",
            "7ff569bf9ce24f9faccc8f87c281c54d",
            "48507356a4b84d89869e1d441ce66082",
            "a0b8062873a648879a2ecdb5ac9746e9",
            "ba50cb56d39b4a20a09a08fb84e5fd23",
            "dad36f1db06b4df89aa8599a883a7b04",
            "9d0e72dfef7e445eb2b313a0f197a292",
            "d4f6ab395be942b08ba75965b29543c7",
            "ba622382f5054c7f8d55044a0d1f9e62",
            "5f94d8b4c6134ace8fc14179530a8c8d",
            "a0bc6dab1615496e96e8a0e12aa93ace",
            "ebe91bda1df24f8fa7a87e72c6e1774a",
            "442ae1accff74eed987fd1a9da860965",
            "a72328afca3749e187df49ae1fea8b9b",
            "c74755cf7abf4662ad327f3bfd4b73b3",
            "f67eae32c5244111b3f19e8ba2cca9a7",
            "ad9af3c817b54df1acfb6174d7781f9d",
            "2cbe74c56a574b21b692c6b429383314",
            "0825ea6bd5c24cf9bf2106e2e7c4284a",
            "4d1f2190ff62458596a47899ed28564b",
            "2a280ac921054249961a3b8825c994a6",
            "2cf0c19fc41c41b29b085fe4baef23f4",
            "f332e9a47fb241cf838e8238b3a0c134",
            "d067ecc69bfc4f5da3f63f1aa288d5ba",
            "50b5b340dae04fda8cbc91b03e1ae7f7",
            "0229de6a9f4949c09ab34360b7b6e1da",
            "f9dffaf9e994497c9272f9e4b6caf898",
            "df9ae847c32e422aa8a269a439b64148",
            "7b47909f83024c9483cfdd91b5f87ffa",
            "8483d3f5d9564bf198ef1729404d4130",
            "6095f685edbe488c99bbf82bcf680a02",
            "c7fa1cead3e041f6a74a69546f25214d",
            "920459a4244141779beb8bed8356715c",
            "d93cb9aca2624e40b0e0683ba8f4f262",
            "ff0d7983c67e4706b9ef574bbfc8bd2e",
            "3d53bd891e28418ea87be33416a82339"
          ]
        },
        "id": "2c9H80vTN9gT",
        "outputId": "f27c8cf6-ec59-4d3a-faa7-98ae44401d6e"
      },
      "execution_count": 6,
      "outputs": [
        {
          "output_type": "stream",
          "name": "stdout",
          "text": [
            "Downloading http://yann.lecun.com/exdb/mnist/train-images-idx3-ubyte.gz\n",
            "Downloading http://yann.lecun.com/exdb/mnist/train-images-idx3-ubyte.gz to data/MNIST/raw/train-images-idx3-ubyte.gz\n"
          ]
        },
        {
          "output_type": "display_data",
          "data": {
            "text/plain": [
              "  0%|          | 0/9912422 [00:00<?, ?it/s]"
            ],
            "application/vnd.jupyter.widget-view+json": {
              "version_major": 2,
              "version_minor": 0,
              "model_id": "5c5258272ed84330bf8dd2fcb66bf37c"
            }
          },
          "metadata": {}
        },
        {
          "output_type": "stream",
          "name": "stdout",
          "text": [
            "Extracting data/MNIST/raw/train-images-idx3-ubyte.gz to data/MNIST/raw\n",
            "\n",
            "Downloading http://yann.lecun.com/exdb/mnist/train-labels-idx1-ubyte.gz\n",
            "Downloading http://yann.lecun.com/exdb/mnist/train-labels-idx1-ubyte.gz to data/MNIST/raw/train-labels-idx1-ubyte.gz\n"
          ]
        },
        {
          "output_type": "display_data",
          "data": {
            "text/plain": [
              "  0%|          | 0/28881 [00:00<?, ?it/s]"
            ],
            "application/vnd.jupyter.widget-view+json": {
              "version_major": 2,
              "version_minor": 0,
              "model_id": "a0b8062873a648879a2ecdb5ac9746e9"
            }
          },
          "metadata": {}
        },
        {
          "output_type": "stream",
          "name": "stdout",
          "text": [
            "Extracting data/MNIST/raw/train-labels-idx1-ubyte.gz to data/MNIST/raw\n",
            "\n",
            "Downloading http://yann.lecun.com/exdb/mnist/t10k-images-idx3-ubyte.gz\n",
            "Downloading http://yann.lecun.com/exdb/mnist/t10k-images-idx3-ubyte.gz to data/MNIST/raw/t10k-images-idx3-ubyte.gz\n"
          ]
        },
        {
          "output_type": "display_data",
          "data": {
            "text/plain": [
              "  0%|          | 0/1648877 [00:00<?, ?it/s]"
            ],
            "application/vnd.jupyter.widget-view+json": {
              "version_major": 2,
              "version_minor": 0,
              "model_id": "c74755cf7abf4662ad327f3bfd4b73b3"
            }
          },
          "metadata": {}
        },
        {
          "output_type": "stream",
          "name": "stdout",
          "text": [
            "Extracting data/MNIST/raw/t10k-images-idx3-ubyte.gz to data/MNIST/raw\n",
            "\n",
            "Downloading http://yann.lecun.com/exdb/mnist/t10k-labels-idx1-ubyte.gz\n",
            "Downloading http://yann.lecun.com/exdb/mnist/t10k-labels-idx1-ubyte.gz to data/MNIST/raw/t10k-labels-idx1-ubyte.gz\n"
          ]
        },
        {
          "output_type": "display_data",
          "data": {
            "text/plain": [
              "  0%|          | 0/4542 [00:00<?, ?it/s]"
            ],
            "application/vnd.jupyter.widget-view+json": {
              "version_major": 2,
              "version_minor": 0,
              "model_id": "0229de6a9f4949c09ab34360b7b6e1da"
            }
          },
          "metadata": {}
        },
        {
          "output_type": "stream",
          "name": "stdout",
          "text": [
            "Extracting data/MNIST/raw/t10k-labels-idx1-ubyte.gz to data/MNIST/raw\n",
            "\n"
          ]
        }
      ]
    },
    {
      "cell_type": "code",
      "source": [
        "training_data"
      ],
      "metadata": {
        "colab": {
          "base_uri": "https://localhost:8080/"
        },
        "id": "gLN_GUXtN9jO",
        "outputId": "1a46746e-4c29-42d9-b91f-a07e3d1ca68d"
      },
      "execution_count": 7,
      "outputs": [
        {
          "output_type": "execute_result",
          "data": {
            "text/plain": [
              "Dataset MNIST\n",
              "    Number of datapoints: 60000\n",
              "    Root location: data\n",
              "    Split: Train\n",
              "    StandardTransform\n",
              "Transform: ToTensor()"
            ]
          },
          "metadata": {},
          "execution_count": 7
        }
      ]
    },
    {
      "cell_type": "code",
      "source": [
        "type(training_data)"
      ],
      "metadata": {
        "colab": {
          "base_uri": "https://localhost:8080/"
        },
        "id": "Ewt7QtyfN9mp",
        "outputId": "85c7f7dc-e5ad-4f25-ff5d-0705a044b1da"
      },
      "execution_count": 8,
      "outputs": [
        {
          "output_type": "execute_result",
          "data": {
            "text/plain": [
              "torchvision.datasets.mnist.MNIST"
            ]
          },
          "metadata": {},
          "execution_count": 8
        }
      ]
    },
    {
      "cell_type": "markdown",
      "source": [
        "##### Avec tenserflow"
      ],
      "metadata": {
        "id": "7OhFZ8H0Shdn"
      }
    },
    {
      "cell_type": "code",
      "source": [
        "#import the tensorflow datasets\n",
        "import tensorflow_datasets as tfds\n",
        "# Constract the MNIST dataset.\n",
        "mnist_data=tfds.load('mnist', split='train', shuffle_files=True)\n"
      ],
      "metadata": {
        "colab": {
          "base_uri": "https://localhost:8080/",
          "height": 104,
          "referenced_widgets": [
            "fb9ffadfba104b8cb469002c2a89b0e8",
            "77fdb27dea55422a8e8d6a70b44d04b1",
            "111f67fbf0154b0c9af526a1ea1e07be",
            "0eb0034bf29c4ab4834a061b405bd05c",
            "5a26f01c6c294d9b8b6d5ba198010e5f",
            "d27913a893ae4ec6aa2fd4eaa0391205",
            "a690d2498d23448eae98519edac1fd11",
            "7e93c760b3ff40fbaf2277a1aa6217d8",
            "635901dc183e4ca9887fff399a28ca55",
            "8b559699e641466685de006db5c66a27",
            "76c6f42778a143a28e822d0d4cddcf71"
          ]
        },
        "id": "yDbB8f_XN9py",
        "outputId": "a5885523-9903-4dd5-fc11-1f103b656284"
      },
      "execution_count": 9,
      "outputs": [
        {
          "output_type": "stream",
          "name": "stdout",
          "text": [
            "Downloading and preparing dataset 11.06 MiB (download: 11.06 MiB, generated: 21.00 MiB, total: 32.06 MiB) to /root/tensorflow_datasets/mnist/3.0.1...\n"
          ]
        },
        {
          "output_type": "display_data",
          "data": {
            "text/plain": [
              "Dl Completed...:   0%|          | 0/5 [00:00<?, ? file/s]"
            ],
            "application/vnd.jupyter.widget-view+json": {
              "version_major": 2,
              "version_minor": 0,
              "model_id": "fb9ffadfba104b8cb469002c2a89b0e8"
            }
          },
          "metadata": {}
        },
        {
          "output_type": "stream",
          "name": "stdout",
          "text": [
            "Dataset mnist downloaded and prepared to /root/tensorflow_datasets/mnist/3.0.1. Subsequent calls will reuse this data.\n"
          ]
        }
      ]
    },
    {
      "cell_type": "code",
      "source": [
        "type(mnist_data)"
      ],
      "metadata": {
        "id": "OEUXN48cN9r7",
        "colab": {
          "base_uri": "https://localhost:8080/"
        },
        "outputId": "96b0f287-07d2-469b-da55-3d64fb1064b9"
      },
      "execution_count": 10,
      "outputs": [
        {
          "output_type": "execute_result",
          "data": {
            "text/plain": [
              "tensorflow.python.data.ops.dataset_ops.PrefetchDataset"
            ]
          },
          "metadata": {},
          "execution_count": 10
        }
      ]
    },
    {
      "cell_type": "markdown",
      "source": [
        "## Exercice 2: Data preparing"
      ],
      "metadata": {
        "id": "FlLdf7nkToUB"
      }
    },
    {
      "cell_type": "code",
      "source": [
        "#import tenserflow_datasets as tfds\n",
        "MNIST_dataset=keras.datasets.mnist\n",
        "mnist_data=MNIST_dataset.load_data()"
      ],
      "metadata": {
        "colab": {
          "base_uri": "https://localhost:8080/"
        },
        "id": "_eNR5Iv0ToHr",
        "outputId": "1561164e-561b-4635-c209-0bec470d4414"
      },
      "execution_count": 11,
      "outputs": [
        {
          "output_type": "stream",
          "name": "stdout",
          "text": [
            "Downloading data from https://storage.googleapis.com/tensorflow/tf-keras-datasets/mnist.npz\n",
            "11490434/11490434 [==============================] - 1s 0us/step\n"
          ]
        }
      ]
    },
    {
      "cell_type": "markdown",
      "source": [
        "#### Loading the train and test set with the images and their labels"
      ],
      "metadata": {
        "id": "WRQGzY8vVhS5"
      }
    },
    {
      "cell_type": "code",
      "source": [
        "(train_images, train_labels),(test_images, test_labels) = mnist_data"
      ],
      "metadata": {
        "id": "u0ZBePxMU9tj"
      },
      "execution_count": 12,
      "outputs": []
    },
    {
      "cell_type": "code",
      "source": [
        "len_train=len(train_images)\n",
        "len_test=len(test_images)\n",
        "print(\"number of train images\",len_train)\n",
        "print(\"number of test images\",len_test)\n"
      ],
      "metadata": {
        "colab": {
          "base_uri": "https://localhost:8080/"
        },
        "id": "TGaYF3sgWwDk",
        "outputId": "7c1a56ca-f2d3-489f-dc3d-ad11bf918807"
      },
      "execution_count": 13,
      "outputs": [
        {
          "output_type": "stream",
          "name": "stdout",
          "text": [
            "number of train images 60000\n",
            "number of test images 10000\n"
          ]
        }
      ]
    },
    {
      "cell_type": "code",
      "source": [
        "train_labels[1]"
      ],
      "metadata": {
        "colab": {
          "base_uri": "https://localhost:8080/"
        },
        "id": "D5Coo5EjU9wo",
        "outputId": "757a3460-23ad-4320-b095-88754bc0d4b1"
      },
      "execution_count": 14,
      "outputs": [
        {
          "output_type": "execute_result",
          "data": {
            "text/plain": [
              "0"
            ]
          },
          "metadata": {},
          "execution_count": 14
        }
      ]
    },
    {
      "cell_type": "markdown",
      "source": [
        "and the array correspondant is ;\n"
      ],
      "metadata": {
        "id": "Z0fhrvBIWNw-"
      }
    },
    {
      "cell_type": "code",
      "source": [
        "train_images[[1]]"
      ],
      "metadata": {
        "colab": {
          "base_uri": "https://localhost:8080/"
        },
        "id": "rgTSd_ZWU9zJ",
        "outputId": "ad9f275a-e93e-4c64-991b-6bbcd26a5026"
      },
      "execution_count": 15,
      "outputs": [
        {
          "output_type": "execute_result",
          "data": {
            "text/plain": [
              "array([[[  0,   0,   0,   0,   0,   0,   0,   0,   0,   0,   0,   0,\n",
              "           0,   0,   0,   0,   0,   0,   0,   0,   0,   0,   0,   0,\n",
              "           0,   0,   0,   0],\n",
              "        [  0,   0,   0,   0,   0,   0,   0,   0,   0,   0,   0,   0,\n",
              "           0,   0,   0,   0,   0,   0,   0,   0,   0,   0,   0,   0,\n",
              "           0,   0,   0,   0],\n",
              "        [  0,   0,   0,   0,   0,   0,   0,   0,   0,   0,   0,   0,\n",
              "           0,   0,   0,   0,   0,   0,   0,   0,   0,   0,   0,   0,\n",
              "           0,   0,   0,   0],\n",
              "        [  0,   0,   0,   0,   0,   0,   0,   0,   0,   0,   0,   0,\n",
              "           0,   0,   0,   0,   0,   0,   0,   0,   0,   0,   0,   0,\n",
              "           0,   0,   0,   0],\n",
              "        [  0,   0,   0,   0,   0,   0,   0,   0,   0,   0,   0,   0,\n",
              "           0,   0,   0,  51, 159, 253, 159,  50,   0,   0,   0,   0,\n",
              "           0,   0,   0,   0],\n",
              "        [  0,   0,   0,   0,   0,   0,   0,   0,   0,   0,   0,   0,\n",
              "           0,   0,  48, 238, 252, 252, 252, 237,   0,   0,   0,   0,\n",
              "           0,   0,   0,   0],\n",
              "        [  0,   0,   0,   0,   0,   0,   0,   0,   0,   0,   0,   0,\n",
              "           0,  54, 227, 253, 252, 239, 233, 252,  57,   6,   0,   0,\n",
              "           0,   0,   0,   0],\n",
              "        [  0,   0,   0,   0,   0,   0,   0,   0,   0,   0,   0,  10,\n",
              "          60, 224, 252, 253, 252, 202,  84, 252, 253, 122,   0,   0,\n",
              "           0,   0,   0,   0],\n",
              "        [  0,   0,   0,   0,   0,   0,   0,   0,   0,   0,   0, 163,\n",
              "         252, 252, 252, 253, 252, 252,  96, 189, 253, 167,   0,   0,\n",
              "           0,   0,   0,   0],\n",
              "        [  0,   0,   0,   0,   0,   0,   0,   0,   0,   0,  51, 238,\n",
              "         253, 253, 190, 114, 253, 228,  47,  79, 255, 168,   0,   0,\n",
              "           0,   0,   0,   0],\n",
              "        [  0,   0,   0,   0,   0,   0,   0,   0,   0,  48, 238, 252,\n",
              "         252, 179,  12,  75, 121,  21,   0,   0, 253, 243,  50,   0,\n",
              "           0,   0,   0,   0],\n",
              "        [  0,   0,   0,   0,   0,   0,   0,   0,  38, 165, 253, 233,\n",
              "         208,  84,   0,   0,   0,   0,   0,   0, 253, 252, 165,   0,\n",
              "           0,   0,   0,   0],\n",
              "        [  0,   0,   0,   0,   0,   0,   0,   7, 178, 252, 240,  71,\n",
              "          19,  28,   0,   0,   0,   0,   0,   0, 253, 252, 195,   0,\n",
              "           0,   0,   0,   0],\n",
              "        [  0,   0,   0,   0,   0,   0,   0,  57, 252, 252,  63,   0,\n",
              "           0,   0,   0,   0,   0,   0,   0,   0, 253, 252, 195,   0,\n",
              "           0,   0,   0,   0],\n",
              "        [  0,   0,   0,   0,   0,   0,   0, 198, 253, 190,   0,   0,\n",
              "           0,   0,   0,   0,   0,   0,   0,   0, 255, 253, 196,   0,\n",
              "           0,   0,   0,   0],\n",
              "        [  0,   0,   0,   0,   0,   0,  76, 246, 252, 112,   0,   0,\n",
              "           0,   0,   0,   0,   0,   0,   0,   0, 253, 252, 148,   0,\n",
              "           0,   0,   0,   0],\n",
              "        [  0,   0,   0,   0,   0,   0,  85, 252, 230,  25,   0,   0,\n",
              "           0,   0,   0,   0,   0,   0,   7, 135, 253, 186,  12,   0,\n",
              "           0,   0,   0,   0],\n",
              "        [  0,   0,   0,   0,   0,   0,  85, 252, 223,   0,   0,   0,\n",
              "           0,   0,   0,   0,   0,   7, 131, 252, 225,  71,   0,   0,\n",
              "           0,   0,   0,   0],\n",
              "        [  0,   0,   0,   0,   0,   0,  85, 252, 145,   0,   0,   0,\n",
              "           0,   0,   0,   0,  48, 165, 252, 173,   0,   0,   0,   0,\n",
              "           0,   0,   0,   0],\n",
              "        [  0,   0,   0,   0,   0,   0,  86, 253, 225,   0,   0,   0,\n",
              "           0,   0,   0, 114, 238, 253, 162,   0,   0,   0,   0,   0,\n",
              "           0,   0,   0,   0],\n",
              "        [  0,   0,   0,   0,   0,   0,  85, 252, 249, 146,  48,  29,\n",
              "          85, 178, 225, 253, 223, 167,  56,   0,   0,   0,   0,   0,\n",
              "           0,   0,   0,   0],\n",
              "        [  0,   0,   0,   0,   0,   0,  85, 252, 252, 252, 229, 215,\n",
              "         252, 252, 252, 196, 130,   0,   0,   0,   0,   0,   0,   0,\n",
              "           0,   0,   0,   0],\n",
              "        [  0,   0,   0,   0,   0,   0,  28, 199, 252, 252, 253, 252,\n",
              "         252, 233, 145,   0,   0,   0,   0,   0,   0,   0,   0,   0,\n",
              "           0,   0,   0,   0],\n",
              "        [  0,   0,   0,   0,   0,   0,   0,  25, 128, 252, 253, 252,\n",
              "         141,  37,   0,   0,   0,   0,   0,   0,   0,   0,   0,   0,\n",
              "           0,   0,   0,   0],\n",
              "        [  0,   0,   0,   0,   0,   0,   0,   0,   0,   0,   0,   0,\n",
              "           0,   0,   0,   0,   0,   0,   0,   0,   0,   0,   0,   0,\n",
              "           0,   0,   0,   0],\n",
              "        [  0,   0,   0,   0,   0,   0,   0,   0,   0,   0,   0,   0,\n",
              "           0,   0,   0,   0,   0,   0,   0,   0,   0,   0,   0,   0,\n",
              "           0,   0,   0,   0],\n",
              "        [  0,   0,   0,   0,   0,   0,   0,   0,   0,   0,   0,   0,\n",
              "           0,   0,   0,   0,   0,   0,   0,   0,   0,   0,   0,   0,\n",
              "           0,   0,   0,   0],\n",
              "        [  0,   0,   0,   0,   0,   0,   0,   0,   0,   0,   0,   0,\n",
              "           0,   0,   0,   0,   0,   0,   0,   0,   0,   0,   0,   0,\n",
              "           0,   0,   0,   0]]], dtype=uint8)"
            ]
          },
          "metadata": {},
          "execution_count": 15
        }
      ]
    },
    {
      "cell_type": "markdown",
      "source": [
        "2. You can check the labels values by transforming fisrt the label array to a simple list"
      ],
      "metadata": {
        "id": "69ZvYVCAXpQU"
      }
    },
    {
      "cell_type": "code",
      "source": [
        "labels = train_labels.tolist()\n",
        "print(\"labels values\",labels[0:10]) #Print the first eleven to have a better view in the html\n"
      ],
      "metadata": {
        "colab": {
          "base_uri": "https://localhost:8080/"
        },
        "id": "tWMfR8iBU91u",
        "outputId": "a1cb8414-e3db-497c-8293-81232e1025dc"
      },
      "execution_count": 83,
      "outputs": [
        {
          "output_type": "stream",
          "name": "stdout",
          "text": [
            "labels values [5, 0, 4, 1, 9, 2, 1, 3, 1, 4]\n"
          ]
        }
      ]
    },
    {
      "cell_type": "markdown",
      "source": [
        "3. Check the length of the train and the test label’s arrays"
      ],
      "metadata": {
        "id": "iuC6yyuLXxMD"
      }
    },
    {
      "cell_type": "code",
      "source": [
        "arrays_len_test= len(test_labels)\n",
        "arrays_len_train=  len(train_labels)\n",
        "\n",
        "print(\"The length of the test arrays are:\", arrays_len_test)\n",
        "print(\"The length of the train arrays are:\", arrays_len_train)"
      ],
      "metadata": {
        "colab": {
          "base_uri": "https://localhost:8080/"
        },
        "id": "C9jm4w1hU94a",
        "outputId": "3abd4efd-c69d-4aae-fa41-303635f2fbd0"
      },
      "execution_count": 17,
      "outputs": [
        {
          "output_type": "stream",
          "name": "stdout",
          "text": [
            "The length of the test arrays are: 10000\n",
            "The length of the train arrays are: 60000\n"
          ]
        }
      ]
    },
    {
      "cell_type": "code",
      "source": [
        "test_labels"
      ],
      "metadata": {
        "colab": {
          "base_uri": "https://localhost:8080/"
        },
        "id": "-F-Yv56dU97B",
        "outputId": "4a009cc6-6df1-4762-8762-76f1fd55b659"
      },
      "execution_count": 18,
      "outputs": [
        {
          "output_type": "execute_result",
          "data": {
            "text/plain": [
              "array([7, 2, 1, ..., 4, 5, 6], dtype=uint8)"
            ]
          },
          "metadata": {},
          "execution_count": 18
        }
      ]
    },
    {
      "cell_type": "markdown",
      "source": [
        "4. train and test datasets are splited to train your model and to test its performance and its capacity to general\u0002ize.\n",
        "5. print the pixels image values from any sample:\n",
        "1 "
      ],
      "metadata": {
        "id": "hnFNyPz7Zx_M"
      }
    },
    {
      "cell_type": "code",
      "source": [
        "print(\"image pixel values \\n\",train_images[1], \" \\n label of the image: \",\n",
        "train_labels[1])\n"
      ],
      "metadata": {
        "colab": {
          "base_uri": "https://localhost:8080/"
        },
        "id": "bnCbTlpYU996",
        "outputId": "29589c98-a864-4153-f5ad-f3563be382f7"
      },
      "execution_count": 19,
      "outputs": [
        {
          "output_type": "stream",
          "name": "stdout",
          "text": [
            "image pixel values \n",
            " [[  0   0   0   0   0   0   0   0   0   0   0   0   0   0   0   0   0   0\n",
            "    0   0   0   0   0   0   0   0   0   0]\n",
            " [  0   0   0   0   0   0   0   0   0   0   0   0   0   0   0   0   0   0\n",
            "    0   0   0   0   0   0   0   0   0   0]\n",
            " [  0   0   0   0   0   0   0   0   0   0   0   0   0   0   0   0   0   0\n",
            "    0   0   0   0   0   0   0   0   0   0]\n",
            " [  0   0   0   0   0   0   0   0   0   0   0   0   0   0   0   0   0   0\n",
            "    0   0   0   0   0   0   0   0   0   0]\n",
            " [  0   0   0   0   0   0   0   0   0   0   0   0   0   0   0  51 159 253\n",
            "  159  50   0   0   0   0   0   0   0   0]\n",
            " [  0   0   0   0   0   0   0   0   0   0   0   0   0   0  48 238 252 252\n",
            "  252 237   0   0   0   0   0   0   0   0]\n",
            " [  0   0   0   0   0   0   0   0   0   0   0   0   0  54 227 253 252 239\n",
            "  233 252  57   6   0   0   0   0   0   0]\n",
            " [  0   0   0   0   0   0   0   0   0   0   0  10  60 224 252 253 252 202\n",
            "   84 252 253 122   0   0   0   0   0   0]\n",
            " [  0   0   0   0   0   0   0   0   0   0   0 163 252 252 252 253 252 252\n",
            "   96 189 253 167   0   0   0   0   0   0]\n",
            " [  0   0   0   0   0   0   0   0   0   0  51 238 253 253 190 114 253 228\n",
            "   47  79 255 168   0   0   0   0   0   0]\n",
            " [  0   0   0   0   0   0   0   0   0  48 238 252 252 179  12  75 121  21\n",
            "    0   0 253 243  50   0   0   0   0   0]\n",
            " [  0   0   0   0   0   0   0   0  38 165 253 233 208  84   0   0   0   0\n",
            "    0   0 253 252 165   0   0   0   0   0]\n",
            " [  0   0   0   0   0   0   0   7 178 252 240  71  19  28   0   0   0   0\n",
            "    0   0 253 252 195   0   0   0   0   0]\n",
            " [  0   0   0   0   0   0   0  57 252 252  63   0   0   0   0   0   0   0\n",
            "    0   0 253 252 195   0   0   0   0   0]\n",
            " [  0   0   0   0   0   0   0 198 253 190   0   0   0   0   0   0   0   0\n",
            "    0   0 255 253 196   0   0   0   0   0]\n",
            " [  0   0   0   0   0   0  76 246 252 112   0   0   0   0   0   0   0   0\n",
            "    0   0 253 252 148   0   0   0   0   0]\n",
            " [  0   0   0   0   0   0  85 252 230  25   0   0   0   0   0   0   0   0\n",
            "    7 135 253 186  12   0   0   0   0   0]\n",
            " [  0   0   0   0   0   0  85 252 223   0   0   0   0   0   0   0   0   7\n",
            "  131 252 225  71   0   0   0   0   0   0]\n",
            " [  0   0   0   0   0   0  85 252 145   0   0   0   0   0   0   0  48 165\n",
            "  252 173   0   0   0   0   0   0   0   0]\n",
            " [  0   0   0   0   0   0  86 253 225   0   0   0   0   0   0 114 238 253\n",
            "  162   0   0   0   0   0   0   0   0   0]\n",
            " [  0   0   0   0   0   0  85 252 249 146  48  29  85 178 225 253 223 167\n",
            "   56   0   0   0   0   0   0   0   0   0]\n",
            " [  0   0   0   0   0   0  85 252 252 252 229 215 252 252 252 196 130   0\n",
            "    0   0   0   0   0   0   0   0   0   0]\n",
            " [  0   0   0   0   0   0  28 199 252 252 253 252 252 233 145   0   0   0\n",
            "    0   0   0   0   0   0   0   0   0   0]\n",
            " [  0   0   0   0   0   0   0  25 128 252 253 252 141  37   0   0   0   0\n",
            "    0   0   0   0   0   0   0   0   0   0]\n",
            " [  0   0   0   0   0   0   0   0   0   0   0   0   0   0   0   0   0   0\n",
            "    0   0   0   0   0   0   0   0   0   0]\n",
            " [  0   0   0   0   0   0   0   0   0   0   0   0   0   0   0   0   0   0\n",
            "    0   0   0   0   0   0   0   0   0   0]\n",
            " [  0   0   0   0   0   0   0   0   0   0   0   0   0   0   0   0   0   0\n",
            "    0   0   0   0   0   0   0   0   0   0]\n",
            " [  0   0   0   0   0   0   0   0   0   0   0   0   0   0   0   0   0   0\n",
            "    0   0   0   0   0   0   0   0   0   0]]  \n",
            " label of the image:  0\n"
          ]
        }
      ]
    },
    {
      "cell_type": "markdown",
      "source": [
        "6 . print an image resolution by using the method shape on an image"
      ],
      "metadata": {
        "id": "xWC2Fk2CZ6l_"
      }
    },
    {
      "cell_type": "code",
      "source": [
        "print(\" image resolution:\", train_images[0].shape)"
      ],
      "metadata": {
        "colab": {
          "base_uri": "https://localhost:8080/"
        },
        "id": "wkpZM8EDU9_7",
        "outputId": "586d551a-5f3d-4886-ebf9-4723a48f1375"
      },
      "execution_count": 20,
      "outputs": [
        {
          "output_type": "stream",
          "name": "stdout",
          "text": [
            " image resolution: (28, 28)\n"
          ]
        }
      ]
    },
    {
      "cell_type": "markdown",
      "source": [
        "## Exercice 3:Image plotting"
      ],
      "metadata": {
        "id": "gfVux9IuaOtB"
      }
    },
    {
      "cell_type": "code",
      "source": [
        "import matplotlib.pyplot as plt\n",
        "plt.figure()\n",
        "plt.imshow ( train_images [0])\n",
        "plt.colorbar ()\n",
        "plt.grid ( False )\n",
        "plt.show ()\n"
      ],
      "metadata": {
        "colab": {
          "base_uri": "https://localhost:8080/",
          "height": 265
        },
        "id": "a6j8IayxU-DP",
        "outputId": "aa762800-586c-495e-b87d-383638048d0d"
      },
      "execution_count": 21,
      "outputs": [
        {
          "output_type": "display_data",
          "data": {
            "text/plain": [
              "<Figure size 432x288 with 2 Axes>"
            ],
            "image/png": "[encoded data removed]"
          },
          "metadata": {
            "needs_background": "light"
          }
        }
      ]
    },
    {
      "cell_type": "markdown",
      "source": [
        "1. You can write a simple function named displayImages allowing you to plot the image pixels and to display\n",
        "its label value as an integer value.\n"
      ],
      "metadata": {
        "id": "edkf2ckhbFmn"
      }
    },
    {
      "cell_type": "code",
      "source": [
        "def displayImages(nbImages,imageDataset, labels):\n",
        "    i= 0\n",
        "    for image in imageDataset:\n",
        "      plt.figure()\n",
        "      plt.imshow (imageDataset[i])\n",
        "      plt.colorbar()\n",
        "      plt.grid ( False )\n",
        "      plt.xticks([])\n",
        "      plt.yticks([])\n",
        "      plt.xlabel(labels[i])\n",
        "      plt.show()\n",
        "      i = i + 1\n",
        "      if i == nbImages:\n",
        "          break\n",
        "displayImages(10,train_images, train_labels)"
      ],
      "metadata": {
        "colab": {
          "base_uri": "https://localhost:8080/",
          "height": 1000
        },
        "id": "raTgQajWU-Fz",
        "outputId": "8d026df1-5c0f-4b68-9fc4-d9ace08c0811"
      },
      "execution_count": 22,
      "outputs": [
        {
          "output_type": "display_data",
          "data": {
            "text/plain": [
              "<Figure size 432x288 with 2 Axes>"
            ],
            "image/png": "[encoded data removed]"
          },
          "metadata": {
            "needs_background": "light"
          }
        },
        {
          "output_type": "display_data",
          "data": {
            "text/plain": [
              "<Figure size 432x288 with 2 Axes>"
            ],
            "image/png": "[encoded data removed]"
          },
          "metadata": {
            "needs_background": "light"
          }
        },
        {
          "output_type": "display_data",
          "data": {
            "text/plain": [
              "<Figure size 432x288 with 2 Axes>"
            ],
            "image/png": "[encoded data removed]"
          },
          "metadata": {
            "needs_background": "light"
          }
        },
        {
          "output_type": "display_data",
          "data": {
            "text/plain": [
              "<Figure size 432x288 with 2 Axes>"
            ],
            "image/png": "[encoded data removed]"
          },
          "metadata": {
            "needs_background": "light"
          }
        },
        {
          "output_type": "display_data",
          "data": {
            "text/plain": [
              "<Figure size 432x288 with 2 Axes>"
            ],
            "image/png": "[encoded data removed]"
          },
          "metadata": {
            "needs_background": "light"
          }
        },
        {
          "output_type": "display_data",
          "data": {
            "text/plain": [
              "<Figure size 432x288 with 2 Axes>"
            ],
            "image/png": "[encoded data removed]"
          },
          "metadata": {
            "needs_background": "light"
          }
        },
        {
          "output_type": "display_data",
          "data": {
            "text/plain": [
              "<Figure size 432x288 with 2 Axes>"
            ],
            "image/png": "[encoded data removed]"
          },
          "metadata": {
            "needs_background": "light"
          }
        },
        {
          "output_type": "display_data",
          "data": {
            "text/plain": [
              "<Figure size 432x288 with 2 Axes>"
            ],
            "image/png": "[encoded data removed]"
          },
          "metadata": {
            "needs_background": "light"
          }
        },
        {
          "output_type": "display_data",
          "data": {
            "text/plain": [
              "<Figure size 432x288 with 2 Axes>"
            ],
            "image/png": "[encoded data removed]"
          },
          "metadata": {
            "needs_background": "light"
          }
        },
        {
          "output_type": "display_data",
          "data": {
            "text/plain": [
              "<Figure size 432x288 with 2 Axes>"
            ],
            "image/png": "[encoded data removed]"
          },
          "metadata": {
            "needs_background": "light"
          }
        }
      ]
    },
    {
      "cell_type": "markdown",
      "source": [
        "2. You can write a simple function named displayGridImages allowing to plot a grid of n × n image and their\n",
        "associated labels at the X-axis"
      ],
      "metadata": {
        "id": "MNA925LLcRzT"
      }
    },
    {
      "cell_type": "code",
      "source": [
        "def displayGridImages(nbImages,imageDataset, labels):\n",
        "    row=nbImages\n",
        "    col=nbImages\n",
        "    fig,axes= plt.subplots(row,col)\n",
        "    axes=axes.ravel() #Transforme un array de dimension (n,m) en (1,n*m) \n",
        "    for i  in range(nbImages*nbImages):\n",
        "      axes[i].imshow (imageDataset[i])\n",
        "      axes[i].set_title(labels[i])\n",
        "    plt.show()\n",
        "displayGridImages(2,train_images, train_labels)"
      ],
      "metadata": {
        "colab": {
          "base_uri": "https://localhost:8080/",
          "height": 281
        },
        "id": "XGT7cMsNLwpC",
        "outputId": "f0a1ac83-befc-4cf4-a384-2656d2efbdcf"
      },
      "execution_count": 28,
      "outputs": [
        {
          "output_type": "display_data",
          "data": {
            "text/plain": [
              "<Figure size 432x288 with 4 Axes>"
            ],
            "image/png": "[encoded data removed]"
          },
          "metadata": {
            "needs_background": "light"
          }
        }
      ]
    },
    {
      "cell_type": "markdown",
      "source": [
        "3. What is the range values of the pixels of any images from train or test dataset?\n",
        "\n",
        "*Response:* The range values of the pixels  of any image in the train or the test dataset is  between 0 and 255 "
      ],
      "metadata": {
        "id": "kUyERB1jQcBy"
      }
    },
    {
      "cell_type": "markdown",
      "source": [
        "4. Normalize the pixels of ant image from train or test dataset: \n",
        "\n",
        "To do so, we have to do the minmax scaling, which mean that we will take the value of each pixel x and : x_scaled = (x-min)/(max)\n",
        "since here the min and max are known and are respectively equals to 0 and 255 so we will have for each value of pixel scaled: x_scaled= x/255.\n",
        "\n",
        "(The question is actually responded in the data preprocessing)."
      ],
      "metadata": {
        "id": "ntzq8La4Q0qz"
      }
    },
    {
      "cell_type": "markdown",
      "source": [
        "## Exercice 3.2:Simple neural network model to imge classification\n",
        "\n"
      ],
      "metadata": {
        "id": "l30eRSj0nMD7"
      }
    },
    {
      "cell_type": "markdown",
      "source": [
        "Data preparation or data preprocessin"
      ],
      "metadata": {
        "id": "6A1Bs_NRpxer"
      }
    },
    {
      "cell_type": "code",
      "source": [
        "#number of labels=number of classes\n",
        "num_classes = 10\n",
        "#define the shape of input data\n",
        "input_shape = (28, 28, 1) #nb lines, nb cols and depth (valeur codage de la couleur)\n",
        "# Make sure images have shape (28, 28, 1)\n",
        "x_train = np.expand_dims(train_images, -1) \n",
        "x_test = np.expand_dims(test_images, -1)\n",
        "print(\"x_train shape:\", x_train.shape)\n",
        "print(x_train.shape[0], \"train samples\")\n",
        "print(x_test.shape[0], \"test samples\")\n",
        "# Normalization: Scale images to the [0, 1] range\n",
        "x_train = train_images.astype(\"float32\") / 255 #Scaling des valeurs\n",
        "x_test = test_images.astype(\"float32\") / 255\n"
      ],
      "metadata": {
        "colab": {
          "base_uri": "https://localhost:8080/"
        },
        "id": "8HBIbGsJo4st",
        "outputId": "2476009f-0470-4eff-a6a3-3ec06e3e1092"
      },
      "execution_count": 47,
      "outputs": [
        {
          "output_type": "stream",
          "name": "stdout",
          "text": [
            "x_train shape: (60000, 28, 28, 1)\n",
            "60000 train samples\n",
            "10000 test samples\n"
          ]
        }
      ]
    },
    {
      "cell_type": "code",
      "source": [
        "# convert class arrays to binary class matrices\n",
        "y_train = keras.utils.to_categorical(train_labels, num_classes)\n",
        "y_test = keras.utils.to_categorical(test_labels, num_classes)\n"
      ],
      "metadata": {
        "id": "Ebzi9VbUtxLN"
      },
      "execution_count": 48,
      "outputs": []
    },
    {
      "cell_type": "markdown",
      "source": [
        "Dans le code précédent, on transforme chaque valeur de label en un vecteur"
      ],
      "metadata": {
        "id": "hXl1CyPkuPZj"
      }
    },
    {
      "cell_type": "markdown",
      "source": [
        " **You can execute the hole code to prepare you data. What does mean the following message xtrainshape ?**\n",
        "\n",
        "\n",
        "It means that we have 60 000 samples (images), each of them being 28x28 (row x col) and with a depth of 1 "
      ],
      "metadata": {
        "id": "jaikgDX8w6Vj"
      }
    },
    {
      "cell_type": "markdown",
      "source": [
        "# Model Architecture: model1"
      ],
      "metadata": {
        "id": "xbM8LsmSxYBV"
      }
    },
    {
      "cell_type": "markdown",
      "source": [
        "### Model creation\n"
      ],
      "metadata": {
        "id": "8FMDMJCqbIE1"
      }
    },
    {
      "cell_type": "markdown",
      "source": [
        "Sequential layers means that the model is a succession of layers with each of them having a specific utility"
      ],
      "metadata": {
        "id": "6vcxI7_bxfAX"
      }
    },
    {
      "cell_type": "code",
      "source": [
        "model1= keras.Sequential([\n",
        "keras.layers.Flatten(input_shape=input_shape),\n",
        "keras.layers.Dense(128, activation='relu'),\n",
        "keras.layers.Dense(10, activation='softmax')\n",
        "])\n",
        "model1.summary()\n"
      ],
      "metadata": {
        "colab": {
          "base_uri": "https://localhost:8080/"
        },
        "id": "Gi4hCoLguGnX",
        "outputId": "6d097941-8256-4889-acb4-55e69170f998"
      },
      "execution_count": 49,
      "outputs": [
        {
          "output_type": "stream",
          "name": "stdout",
          "text": [
            "Model: \"sequential\"\n",
            "_________________________________________________________________\n",
            " Layer (type)                Output Shape              Param #   \n",
            "=================================================================\n",
            " flatten (Flatten)           (None, 784)               0         \n",
            "                                                                 \n",
            " dense (Dense)               (None, 128)               100480    \n",
            "                                                                 \n",
            " dense_1 (Dense)             (None, 10)                1290      \n",
            "                                                                 \n",
            "=================================================================\n",
            "Total params: 101,770\n",
            "Trainable params: 101,770\n",
            "Non-trainable params: 0\n",
            "_________________________________________________________________\n"
          ]
        }
      ]
    },
    {
      "cell_type": "markdown",
      "source": [
        "*We can see that our model have 3 layers as precised in the model.\n",
        "The flatten layer (which function allows transform the 28x28 array into a (1,28*28=784) array so 784 neurons.\n",
        "\n",
        "The first Dense layer with the activation function relu: it used to modify the dimension of the tensor (the (1,748) array) and has 128 neurons.\n",
        "\n",
        "Finally, the second Dense layer with the activation function softmax and has 10 neurons*\n",
        "\n",
        "The layers here are called hidden layers. \n",
        "The input layer is the 28x28 image given."
      ],
      "metadata": {
        "id": "6BI7yAKqSOcz"
      }
    },
    {
      "cell_type": "markdown",
      "source": [
        "## Exercice 4: Model's training step\n"
      ],
      "metadata": {
        "id": "SJ_4YSLKg73r"
      }
    },
    {
      "cell_type": "markdown",
      "source": [
        "#### Compiling step\n",
        "\n",
        "-  the loss function (allows the model to evaluate itself during the training. Calculate the error between the output given after the model fitted and the input label given).\n",
        " \n",
        "- The optimizer mechanism ( allows the model to update itself by responding to the need of minimizing the loss function.)\n",
        "\n",
        "- Metrics : (allows to have an overall view of the performance of the model after train and for the validation (if done) and test step.)"
      ],
      "metadata": {
        "id": "HuFrDDVCbMBx"
      }
    },
    {
      "cell_type": "code",
      "source": [
        "model1.compile(loss=\"categorical_crossentropy\",optimizer=\"adam\",metrics=[\"accuracy\"])"
      ],
      "metadata": {
        "id": "M2qsnHb9SOGY"
      },
      "execution_count": 53,
      "outputs": []
    },
    {
      "cell_type": "markdown",
      "source": [
        "#### Train step"
      ],
      "metadata": {
        "id": "jdkd-PvLmnTz"
      }
    },
    {
      "cell_type": "code",
      "source": [
        "batch_size=128\n",
        "epochs=15\n",
        "model1.fit(x_train,y_train, batch_size=batch_size,epochs=epochs)"
      ],
      "metadata": {
        "colab": {
          "base_uri": "https://localhost:8080/"
        },
        "id": "Y2UHJnVEmnmK",
        "outputId": "c0e2ced9-d7a4-4395-95c3-68e8f9edb51a"
      },
      "execution_count": 54,
      "outputs": [
        {
          "output_type": "stream",
          "name": "stdout",
          "text": [
            "Epoch 1/15\n",
            "469/469 [==============================] - 5s 9ms/step - loss: 0.3628 - accuracy: 0.9001\n",
            "Epoch 2/15\n",
            "469/469 [==============================] - 4s 8ms/step - loss: 0.1691 - accuracy: 0.9520\n",
            "Epoch 3/15\n",
            "469/469 [==============================] - 4s 8ms/step - loss: 0.1201 - accuracy: 0.9660\n",
            "Epoch 4/15\n",
            "469/469 [==============================] - 3s 7ms/step - loss: 0.0935 - accuracy: 0.9732\n",
            "Epoch 5/15\n",
            "469/469 [==============================] - 4s 8ms/step - loss: 0.0750 - accuracy: 0.9784\n",
            "Epoch 6/15\n",
            "469/469 [==============================] - 3s 6ms/step - loss: 0.0620 - accuracy: 0.9822\n",
            "Epoch 7/15\n",
            "469/469 [==============================] - 2s 4ms/step - loss: 0.0519 - accuracy: 0.9851\n",
            "Epoch 8/15\n",
            "469/469 [==============================] - 3s 7ms/step - loss: 0.0433 - accuracy: 0.9880\n",
            "Epoch 9/15\n",
            "469/469 [==============================] - 4s 8ms/step - loss: 0.0364 - accuracy: 0.9901\n",
            "Epoch 10/15\n",
            "469/469 [==============================] - 3s 5ms/step - loss: 0.0318 - accuracy: 0.9911\n",
            "Epoch 11/15\n",
            "469/469 [==============================] - 3s 6ms/step - loss: 0.0259 - accuracy: 0.9934\n",
            "Epoch 12/15\n",
            "469/469 [==============================] - 3s 5ms/step - loss: 0.0227 - accuracy: 0.9940\n",
            "Epoch 13/15\n",
            "469/469 [==============================] - 3s 7ms/step - loss: 0.0200 - accuracy: 0.9949\n",
            "Epoch 14/15\n",
            "469/469 [==============================] - 2s 5ms/step - loss: 0.0162 - accuracy: 0.9964\n",
            "Epoch 15/15\n",
            "469/469 [==============================] - 2s 4ms/step - loss: 0.0140 - accuracy: 0.9970\n"
          ]
        },
        {
          "output_type": "execute_result",
          "data": {
            "text/plain": [
              "<keras.callbacks.History at 0x7f29619524c0>"
            ]
          },
          "metadata": {},
          "execution_count": 54
        }
      ]
    },
    {
      "cell_type": "markdown",
      "source": [
        "We can see that during each epoch, the loss function is lowered as much as possible thanks to the optimizer mechanism.\n",
        "\n",
        "And through each iteration, the accuracy is calculated and the model get to learn the dataset better and train on it better which allow to have a small loss function and a good accuracy."
      ],
      "metadata": {
        "id": "bjQMjkYmnMj6"
      }
    },
    {
      "cell_type": "markdown",
      "source": [
        "## Exercice 5: Model Evaluation"
      ],
      "metadata": {
        "id": "hGtiNmktn2uO"
      }
    },
    {
      "cell_type": "markdown",
      "source": [
        "We are now going to fit our model to the test set to be able to evaluate the model (study its performance of response and also study if there are any risks  of over/ under fitting) "
      ],
      "metadata": {
        "id": "Q4SUESGfoI-Q"
      }
    },
    {
      "cell_type": "code",
      "source": [
        "score=model1.evaluate(x_test,y_test, verbose=True)\n",
        "print(\"Test loss:\", score[0])\n",
        "print(\"Test accuracy:\",score[1])"
      ],
      "metadata": {
        "colab": {
          "base_uri": "https://localhost:8080/"
        },
        "id": "bRRDunj3SMSJ",
        "outputId": "52b91bcc-5abf-4466-fd40-fb4a9da0b0d1"
      },
      "execution_count": 57,
      "outputs": [
        {
          "output_type": "stream",
          "name": "stdout",
          "text": [
            "313/313 [==============================] - 1s 2ms/step - loss: 0.0788 - accuracy: 0.9778\n",
            "Test loss: 0.0787929818034172\n",
            "Test accuracy: 0.9778000116348267\n"
          ]
        }
      ]
    },
    {
      "cell_type": "markdown",
      "source": [],
      "metadata": {
        "id": "Ti2U42UkpE87"
      }
    },
    {
      "cell_type": "markdown",
      "source": [
        "## Exercice 6: Model Prediction"
      ],
      "metadata": {
        "id": "A4YsDRlxpPlK"
      }
    },
    {
      "cell_type": "markdown",
      "source": [
        "Based on the trained model, we can now predict the output label using features (here it is out 28*28 pixels images)."
      ],
      "metadata": {
        "id": "saIkp--PpXCH"
      }
    },
    {
      "cell_type": "code",
      "source": [
        "predictions_1= model1.predict(x_test)\n",
        "print(predictions_1[0]) # The prediction here is a (1, 10) array with each value representing the probability that x_test[0] is the value of its index (0 to 9)\n",
        "#Let print the prediction\n",
        "print(\"Observed class : {} , predicted_class: {}\".format(y_test[0],np.argmax(predictions_1[0])))"
      ],
      "metadata": {
        "id": "9VAoCN2E14UD",
        "colab": {
          "base_uri": "https://localhost:8080/"
        },
        "outputId": "7a67dffd-a510-462c-92e3-117035ad2b54"
      },
      "execution_count": 64,
      "outputs": [
        {
          "output_type": "stream",
          "name": "stdout",
          "text": [
            "313/313 [==============================] - 1s 4ms/step\n",
            "[1.5951107e-07 5.4510191e-10 5.5904231e-08 3.7636382e-03 2.7928330e-12\n",
            " 2.1184117e-06 1.2656368e-12 9.9618608e-01 1.6764313e-08 4.7867685e-05]\n",
            "Observed class : [0. 0. 0. 0. 0. 0. 0. 1. 0. 0.] , predicted_class: 7\n"
          ]
        }
      ]
    },
    {
      "cell_type": "markdown",
      "source": [
        "# Model Architecture: model2"
      ],
      "metadata": {
        "id": "CuZnezHkra22"
      }
    },
    {
      "cell_type": "code",
      "source": [
        "from keras import layers\n",
        "model_2=keras.Sequential([\n",
        "    \n",
        "    keras.Input(shape=input_shape),\n",
        "    layers.Conv2D(32, kernel_size=(3,3),activation=\"relu\"),\n",
        "    layers.MaxPooling2D(pool_size=(2,2)),\n",
        "    layers.Conv2D(64, kernel_size=(3,3),activation=\"relu\"),\n",
        "    layers.MaxPooling2D(pool_size=(2,2)),\n",
        "    layers.Flatten(),\n",
        "    layers.Dropout(0.5),\n",
        "    layers.Dense(num_classes,activation=\"softmax\"),\n",
        "])\n",
        "model_2.summary()"
      ],
      "metadata": {
        "colab": {
          "base_uri": "https://localhost:8080/"
        },
        "id": "O9rObmqnrck8",
        "outputId": "da7bdc39-2e05-443a-d2e8-50c392cf4488"
      },
      "execution_count": 74,
      "outputs": [
        {
          "output_type": "stream",
          "name": "stdout",
          "text": [
            "Model: \"sequential_5\"\n",
            "_________________________________________________________________\n",
            " Layer (type)                Output Shape              Param #   \n",
            "=================================================================\n",
            " conv2d_10 (Conv2D)          (None, 26, 26, 32)        320       \n",
            "                                                                 \n",
            " max_pooling2d_10 (MaxPoolin  (None, 13, 13, 32)       0         \n",
            " g2D)                                                            \n",
            "                                                                 \n",
            " conv2d_11 (Conv2D)          (None, 11, 11, 64)        18496     \n",
            "                                                                 \n",
            " max_pooling2d_11 (MaxPoolin  (None, 5, 5, 64)         0         \n",
            " g2D)                                                            \n",
            "                                                                 \n",
            " flatten_6 (Flatten)         (None, 1600)              0         \n",
            "                                                                 \n",
            " dropout_5 (Dropout)         (None, 1600)              0         \n",
            "                                                                 \n",
            " dense_7 (Dense)             (None, 10)                16010     \n",
            "                                                                 \n",
            "=================================================================\n",
            "Total params: 34,826\n",
            "Trainable params: 34,826\n",
            "Non-trainable params: 0\n",
            "_________________________________________________________________\n"
          ]
        }
      ]
    },
    {
      "cell_type": "markdown",
      "source": [
        "In comparison to the first model, this model firstly use 7 hidden layers.\n",
        "\n",
        "The biggest difference is that this model uses convolutional layers while the first one does not.\n",
        "\n",
        "THe difference being that this model uses a number of filter on the pixels given (32 and 64) while the model 1 does not.\n",
        "\n",
        "This model create convulutional neural network ( which are  mainly use in image classification) \n",
        "CNN have convulutional layers that uses filters that are able to detect patterns. \n",
        "Here each are size 3 by 3.\n",
        "\n",
        "The next layer coming after the convolutional layer will use the convolutional matrix (or array) created by the convolve that happened previously.\n",
        "\n",
        "Convolving means that the input matrix is passed through each 3 by 3 filter.\n",
        "\n",
        "More filter detects more edges which mean more patterns."
      ],
      "metadata": {
        "id": "s2ebb2k6sjsI"
      }
    },
    {
      "cell_type": "markdown",
      "source": [
        "## Exercice 4_2: Model's training "
      ],
      "metadata": {
        "id": "bfJJnfof31f4"
      }
    },
    {
      "cell_type": "markdown",
      "source": [
        "#### Compiling step"
      ],
      "metadata": {
        "id": "DXWNDrlI36-2"
      }
    },
    {
      "cell_type": "code",
      "source": [
        "model_2.compile(loss=\"categorical_crossentropy\",optimizer=\"adam\",metrics=[\"accuracy\"])"
      ],
      "metadata": {
        "id": "u3xYWZxo36yB"
      },
      "execution_count": 75,
      "outputs": []
    },
    {
      "cell_type": "markdown",
      "source": [],
      "metadata": {
        "id": "jh95wR7g4FcU"
      }
    },
    {
      "cell_type": "code",
      "source": [
        "model_2.fit(x_train, y_train, batch_size=batch_size,epochs=epochs,validation_split=0.1)"
      ],
      "metadata": {
        "colab": {
          "base_uri": "https://localhost:8080/"
        },
        "id": "sjW91QJn36qK",
        "outputId": "e3181e61-3ba6-4741-d45c-5156709fbcfa"
      },
      "execution_count": 77,
      "outputs": [
        {
          "output_type": "stream",
          "name": "stdout",
          "text": [
            "Epoch 1/15\n",
            "422/422 [==============================] - 44s 105ms/step - loss: 0.0306 - accuracy: 0.9900 - val_loss: 0.0137 - val_accuracy: 0.9962\n",
            "Epoch 2/15\n",
            "422/422 [==============================] - 45s 108ms/step - loss: 0.0289 - accuracy: 0.9906 - val_loss: 0.0160 - val_accuracy: 0.9958\n",
            "Epoch 3/15\n",
            "422/422 [==============================] - 44s 104ms/step - loss: 0.0274 - accuracy: 0.9911 - val_loss: 0.0146 - val_accuracy: 0.9960\n",
            "Epoch 4/15\n",
            "422/422 [==============================] - 44s 104ms/step - loss: 0.0268 - accuracy: 0.9909 - val_loss: 0.0164 - val_accuracy: 0.9952\n",
            "Epoch 5/15\n",
            "422/422 [==============================] - 55s 129ms/step - loss: 0.0261 - accuracy: 0.9914 - val_loss: 0.0180 - val_accuracy: 0.9953\n",
            "Epoch 6/15\n",
            "422/422 [==============================] - 56s 132ms/step - loss: 0.0256 - accuracy: 0.9914 - val_loss: 0.0180 - val_accuracy: 0.9945\n",
            "Epoch 7/15\n",
            "422/422 [==============================] - 65s 153ms/step - loss: 0.0256 - accuracy: 0.9913 - val_loss: 0.0178 - val_accuracy: 0.9950\n",
            "Epoch 8/15\n",
            "422/422 [==============================] - 59s 139ms/step - loss: 0.0234 - accuracy: 0.9925 - val_loss: 0.0201 - val_accuracy: 0.9938\n",
            "Epoch 9/15\n",
            "422/422 [==============================] - 49s 117ms/step - loss: 0.0228 - accuracy: 0.9924 - val_loss: 0.0195 - val_accuracy: 0.9943\n",
            "Epoch 10/15\n",
            "422/422 [==============================] - 46s 108ms/step - loss: 0.0235 - accuracy: 0.9922 - val_loss: 0.0211 - val_accuracy: 0.9937\n",
            "Epoch 11/15\n",
            "422/422 [==============================] - 45s 108ms/step - loss: 0.0226 - accuracy: 0.9924 - val_loss: 0.0206 - val_accuracy: 0.9952\n",
            "Epoch 12/15\n",
            "422/422 [==============================] - 44s 105ms/step - loss: 0.0210 - accuracy: 0.9929 - val_loss: 0.0222 - val_accuracy: 0.9942\n",
            "Epoch 13/15\n",
            "422/422 [==============================] - 45s 107ms/step - loss: 0.0209 - accuracy: 0.9931 - val_loss: 0.0203 - val_accuracy: 0.9943\n",
            "Epoch 14/15\n",
            "422/422 [==============================] - 44s 105ms/step - loss: 0.0199 - accuracy: 0.9931 - val_loss: 0.0190 - val_accuracy: 0.9950\n",
            "Epoch 15/15\n",
            "422/422 [==============================] - 46s 108ms/step - loss: 0.0194 - accuracy: 0.9933 - val_loss: 0.0224 - val_accuracy: 0.9937\n"
          ]
        },
        {
          "output_type": "execute_result",
          "data": {
            "text/plain": [
              "<keras.callbacks.History at 0x7f296127e880>"
            ]
          },
          "metadata": {},
          "execution_count": 77
        }
      ]
    },
    {
      "cell_type": "markdown",
      "source": [
        "What is interesting here about fitting this model is that 10% of the train dataset is used for the validation, so we get to have the view on how well the training is going and we get to have the opportunity to compare result in order to maybe tune the model for better result."
      ],
      "metadata": {
        "id": "EewTtjDsGs8X"
      }
    },
    {
      "cell_type": "markdown",
      "source": [
        "#### Model evaluation"
      ],
      "metadata": {
        "id": "etBiXmrKHYnI"
      }
    },
    {
      "cell_type": "code",
      "source": [
        "score_2=model_2.evaluate(x_test, y_test, verbose=2)\n",
        "print(\"Test loss: \", score_2[0])\n",
        "print(\"Test accurary: \", score_2[1])"
      ],
      "metadata": {
        "colab": {
          "base_uri": "https://localhost:8080/"
        },
        "id": "3eJRvlUK36m6",
        "outputId": "80939104-2b73-4353-91c8-fe6218bbb753"
      },
      "execution_count": 78,
      "outputs": [
        {
          "output_type": "stream",
          "name": "stdout",
          "text": [
            "313/313 - 3s - loss: 0.0231 - accuracy: 0.9922 - 3s/epoch - 8ms/step\n",
            "Test loss:  0.023147130385041237\n",
            "Test accurary:  0.9922000169754028\n"
          ]
        }
      ]
    },
    {
      "cell_type": "markdown",
      "source": [
        "#### Model prediction"
      ],
      "metadata": {
        "id": "rF9XZ8XzHZVL"
      }
    },
    {
      "cell_type": "code",
      "source": [
        "prediction_2= model_2.predict(x_test)\n",
        "print(\"Observed class : {} , predicted_class: {}\".format(y_test[0],np.argmax(prediction_2[0])))"
      ],
      "metadata": {
        "colab": {
          "base_uri": "https://localhost:8080/"
        },
        "id": "nRc5P0TBHZ1a",
        "outputId": "3d78b5cb-cdc6-47b0-e0fc-8d642522f960"
      },
      "execution_count": 80,
      "outputs": [
        {
          "output_type": "stream",
          "name": "stdout",
          "text": [
            "313/313 [==============================] - 3s 9ms/step\n",
            "Observed class : [0. 0. 0. 0. 0. 0. 0. 1. 0. 0.] , predicted_class: 7\n"
          ]
        }
      ]
    },
    {
      "cell_type": "markdown",
      "source": [
        "It could also be interesting to add the validation in the first model and to compare both of them\n"
      ],
      "metadata": {
        "id": "9SZARqOqJP_S"
      }
    },
    {
      "cell_type": "code",
      "source": [
        "model1.fit(x_train,y_train, batch_size=batch_size,epochs=epochs,validation_split=0.1)\n",
        "score=model1.evaluate(x_test,y_test, verbose=True)\n",
        "print(\"Test loss:\", score[0])\n",
        "print(\"Test accuracy:\",score[1])"
      ],
      "metadata": {
        "colab": {
          "base_uri": "https://localhost:8080/"
        },
        "id": "0fJbuIo6JPtL",
        "outputId": "48f3ec43-bcaa-492b-d25c-01c0cfdc00f9"
      },
      "execution_count": 81,
      "outputs": [
        {
          "output_type": "stream",
          "name": "stdout",
          "text": [
            "Epoch 1/15\n",
            "422/422 [==============================] - 2s 5ms/step - loss: 0.0125 - accuracy: 0.9973 - val_loss: 0.0114 - val_accuracy: 0.9967\n",
            "Epoch 2/15\n",
            "422/422 [==============================] - 2s 4ms/step - loss: 0.0096 - accuracy: 0.9982 - val_loss: 0.0113 - val_accuracy: 0.9973\n",
            "Epoch 3/15\n",
            "422/422 [==============================] - 2s 4ms/step - loss: 0.0085 - accuracy: 0.9986 - val_loss: 0.0132 - val_accuracy: 0.9950\n",
            "Epoch 4/15\n",
            "422/422 [==============================] - 2s 4ms/step - loss: 0.0074 - accuracy: 0.9988 - val_loss: 0.0160 - val_accuracy: 0.9950\n",
            "Epoch 5/15\n",
            "422/422 [==============================] - 2s 4ms/step - loss: 0.0063 - accuracy: 0.9992 - val_loss: 0.0176 - val_accuracy: 0.9942\n",
            "Epoch 6/15\n",
            "422/422 [==============================] - 2s 4ms/step - loss: 0.0057 - accuracy: 0.9991 - val_loss: 0.0160 - val_accuracy: 0.9947\n",
            "Epoch 7/15\n",
            "422/422 [==============================] - 2s 4ms/step - loss: 0.0041 - accuracy: 0.9995 - val_loss: 0.0245 - val_accuracy: 0.9918\n",
            "Epoch 8/15\n",
            "422/422 [==============================] - 2s 4ms/step - loss: 0.0053 - accuracy: 0.9990 - val_loss: 0.0238 - val_accuracy: 0.9912\n",
            "Epoch 9/15\n",
            "422/422 [==============================] - 2s 4ms/step - loss: 0.0055 - accuracy: 0.9989 - val_loss: 0.0319 - val_accuracy: 0.9902\n",
            "Epoch 10/15\n",
            "422/422 [==============================] - 2s 4ms/step - loss: 0.0044 - accuracy: 0.9991 - val_loss: 0.0270 - val_accuracy: 0.9910\n",
            "Epoch 11/15\n",
            "422/422 [==============================] - 2s 4ms/step - loss: 0.0025 - accuracy: 0.9998 - val_loss: 0.0221 - val_accuracy: 0.9933\n",
            "Epoch 12/15\n",
            "422/422 [==============================] - 2s 5ms/step - loss: 0.0015 - accuracy: 1.0000 - val_loss: 0.0199 - val_accuracy: 0.9927\n",
            "Epoch 13/15\n",
            "422/422 [==============================] - 2s 4ms/step - loss: 0.0017 - accuracy: 0.9998 - val_loss: 0.0316 - val_accuracy: 0.9907\n",
            "Epoch 14/15\n",
            "422/422 [==============================] - 2s 4ms/step - loss: 0.0077 - accuracy: 0.9977 - val_loss: 0.0386 - val_accuracy: 0.9877\n",
            "Epoch 15/15\n",
            "422/422 [==============================] - 2s 4ms/step - loss: 0.0046 - accuracy: 0.9989 - val_loss: 0.0281 - val_accuracy: 0.9917\n",
            "313/313 [==============================] - 1s 2ms/step - loss: 0.0900 - accuracy: 0.9798\n",
            "Test loss: 0.08995719999074936\n",
            "Test accuracy: 0.9797999858856201\n"
          ]
        }
      ]
    },
    {
      "cell_type": "markdown",
      "source": [
        "## Conclusion on both models: \n",
        "\n",
        "As we can see by the accuraries on the test,  the convolutional neural network predict better the number written on images than the simple neural network.\n",
        "\n",
        "This is due to the fact that the convotulutional neural network learns the pattern thanks to the filters and with the compilation steps, minimize as much as possible the loss function and maximize the metric (here the accuracy).\n",
        "\n",
        "Therefore, as for images classification, it is very likely and advantageous to use the CNN for better results."
      ],
      "metadata": {
        "id": "lxdpY3BYKfvX"
      }
    },
    {
      "cell_type": "markdown",
      "source": [],
      "metadata": {
        "id": "9DCC14tmLaTM"
      }
    },
    {
      "cell_type": "code",
      "source": [
        "%%shell\n",
        "jupyter nbconvert --to html /content/TD1_Sineyoko_Assitan.ipynb"
      ],
      "metadata": {
        "colab": {
          "base_uri": "https://localhost:8080/"
        },
        "id": "Jc795qweQ2rn",
        "outputId": "5614552d-5032-4a38-f73f-a316aea1e557"
      },
      "execution_count": 84,
      "outputs": [
        {
          "output_type": "stream",
          "name": "stdout",
          "text": [
            "[NbConvertApp] Converting notebook /content/TD1_Sineyoko_Assitan.ipynb to html\n",
            "[NbConvertApp] Writing 475887 bytes to /content/TD1_Sineyoko_Assitan.html\n"
          ]
        },
        {
          "output_type": "execute_result",
          "data": {
            "text/plain": []
          },
          "metadata": {},
          "execution_count": 84
        }
      ]
    }
  ]
}